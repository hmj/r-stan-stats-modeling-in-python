{
 "cells": [
  {
   "cell_type": "code",
   "execution_count": 1,
   "metadata": {
    "collapsed": false
   },
   "outputs": [
    {
     "name": "stderr",
     "output_type": "stream",
     "text": [
      "/Users/yuki.ohnishi/.pyenv/versions/analysis/lib/python3.5/site-packages/Cython/Distutils/old_build_ext.py:30: UserWarning: Cython.Distutils.old_build_ext does not properly handle dependencies and is deprecated.\n",
      "  \"Cython.Distutils.old_build_ext does not properly handle dependencies \"\n"
     ]
    }
   ],
   "source": [
    "import pandas as pd\n",
    "import numpy as np\n",
    "import seaborn as sns\n",
    "import matplotlib.pyplot as plt\n",
    "import pystan\n",
    "%matplotlib inline"
   ]
  },
  {
   "cell_type": "markdown",
   "metadata": {},
   "source": [
    "#### 7.2 対数をとるか否か"
   ]
  },
  {
   "cell_type": "code",
   "execution_count": 2,
   "metadata": {
    "collapsed": true
   },
   "outputs": [],
   "source": [
    "df2 = pd.read_csv(\"input/data-rental.txt\")"
   ]
  },
  {
   "cell_type": "code",
   "execution_count": 3,
   "metadata": {
    "collapsed": false
   },
   "outputs": [
    {
     "data": {
      "text/html": [
       "<div>\n",
       "<table border=\"1\" class=\"dataframe\">\n",
       "  <thead>\n",
       "    <tr style=\"text-align: right;\">\n",
       "      <th></th>\n",
       "      <th>Y</th>\n",
       "      <th>Area</th>\n",
       "    </tr>\n",
       "  </thead>\n",
       "  <tbody>\n",
       "    <tr>\n",
       "      <th>0</th>\n",
       "      <td>263.062</td>\n",
       "      <td>40.66</td>\n",
       "    </tr>\n",
       "    <tr>\n",
       "      <th>1</th>\n",
       "      <td>519.000</td>\n",
       "      <td>61.94</td>\n",
       "    </tr>\n",
       "  </tbody>\n",
       "</table>\n",
       "</div>"
      ],
      "text/plain": [
       "         Y   Area\n",
       "0  263.062  40.66\n",
       "1  519.000  61.94"
      ]
     },
     "execution_count": 3,
     "metadata": {},
     "output_type": "execute_result"
    }
   ],
   "source": [
    "df2.head(2)"
   ]
  },
  {
   "cell_type": "code",
   "execution_count": 6,
   "metadata": {
    "collapsed": false
   },
   "outputs": [
    {
     "data": {
      "text/plain": [
       "<matplotlib.collections.PathCollection at 0x118940160>"
      ]
     },
     "execution_count": 6,
     "metadata": {},
     "output_type": "execute_result"
    },
    {
     "data": {
      "image/png": "[encoded data removed]",
      "text/plain": [
       "<matplotlib.figure.Figure at 0x1187dedd8>"
      ]
     },
     "metadata": {},
     "output_type": "display_data"
    }
   ],
   "source": [
    "plt.scatter(df2.Area, df2.Y)"
   ]
  },
  {
   "cell_type": "code",
   "execution_count": 15,
   "metadata": {
    "collapsed": false
   },
   "outputs": [
    {
     "data": {
      "text/plain": [
       "<matplotlib.collections.PathCollection at 0x1196c22b0>"
      ]
     },
     "execution_count": 15,
     "metadata": {},
     "output_type": "execute_result"
    },
    {
     "data": {
      "image/png": "[encoded data removed]",
      "text/plain": [
       "<matplotlib.figure.Figure at 0x118ac3550>"
      ]
     },
     "metadata": {},
     "output_type": "display_data"
    }
   ],
   "source": [
    "plt.scatter(np.log10(df2.Area), np.log10(df2.Y))"
   ]
  },
  {
   "cell_type": "markdown",
   "metadata": {},
   "source": [
    "x, y軸が対数スケールになってるが、気にしない"
   ]
  },
  {
   "cell_type": "code",
   "execution_count": 21,
   "metadata": {
    "collapsed": false
   },
   "outputs": [],
   "source": [
    "Area_new = np.arange(1, 120)\n",
    "data71 = {\"N\":len(df2), \"Area\":df2.Area, \"Y\":df2.Y, \"Area_new\":Area_new, \"N_new\":len(Area_new)}\n",
    "fit71 = pystan.stan(file=\"stan/model7-1.stan\", data=data71, seed=1234)"
   ]
  },
  {
   "cell_type": "code",
   "execution_count": 22,
   "metadata": {
    "collapsed": false
   },
   "outputs": [],
   "source": [
    "data72 = {\"N\":len(df2), \"Area\":np.log10(df2.Area), \"Y\":np.log10(df2.Y), \"Area_new\":np.log10(Area_new), \"N_new\":len(Area_new)}\n",
    "fit72 = pystan.stan(file=\"stan/model7-2.stan\", data=data72, seed=1234)"
   ]
  },
  {
   "cell_type": "code",
   "execution_count": 23,
   "metadata": {
    "collapsed": true
   },
   "outputs": [],
   "source": [
    "ms1 = fit71.extract()\n",
    "ms2 = fit72.extract()"
   ]
  },
  {
   "cell_type": "code",
   "execution_count": 26,
   "metadata": {
    "collapsed": true
   },
   "outputs": [],
   "source": [
    "y1_new =ms1[\"y_new\"].T\n",
    "y2_new =ms2[\"y_new\"].T"
   ]
  },
  {
   "cell_type": "code",
   "execution_count": 42,
   "metadata": {
    "collapsed": false
   },
   "outputs": [],
   "source": [
    "df_y1_new = pd.DataFrame([np.percentile(x,[10,25,50,75,90]).tolist() for x in y1_new],columns=[\"p10\",\"p25\",\"p50\",\"p75\",\"p90\"])\n",
    "df_y2_new = pd.DataFrame([np.percentile(x,[10,25,50,75,90]).tolist()  for x in y2_new],columns=[\"p10\",\"p25\",\"p50\",\"p75\",\"p90\"])"
   ]
  },
  {
   "cell_type": "code",
   "execution_count": 64,
   "metadata": {
    "collapsed": false
   },
   "outputs": [
    {
     "data": {
      "text/plain": [
       "(0, 120)"
      ]
     },
     "execution_count": 64,
     "metadata": {},
     "output_type": "execute_result"
    },
    {
     "data": {
      "image/png": "[encoded data removed]",
      "text/plain": [
       "<matplotlib.figure.Figure at 0x11dd274e0>"
      ]
     },
     "metadata": {},
     "output_type": "display_data"
    }
   ],
   "source": [
    "plt.figure(figsize=(12,6))\n",
    "ax1 = plt.subplot(1,2,1)\n",
    "ax1.scatter(df2.Area, df2.Y)\n",
    "ax1.plot(Area_new, df_y1_new.p50,color=\"black\")\n",
    "ax1.fill_between(Area_new, df_y1_new.p10, df_y1_new.p90, color=\"gray\", alpha=0.3)\n",
    "ax1.fill_between(Area_new, df_y1_new.p25, df_y1_new.p75, color=\"gray\", alpha=0.7)\n",
    "ax1.set_xlim(0,120)\n",
    "ax2 = plt.subplot(1,2,2)\n",
    "ax2.scatter(df2.Area, df2.Y)\n",
    "ax2.plot(Area_new, 10 ** df_y2_new.p50,color=\"black\")\n",
    "ax2.fill_between(Area_new, 10 ** df_y2_new.p10, 10 ** df_y2_new.p90, color=\"gray\", alpha=0.3)\n",
    "ax2.fill_between(Area_new, 10 ** df_y2_new.p25, 10 ** df_y2_new.p75, color=\"gray\", alpha=0.7)\n",
    "ax2.set_xlim(0,120)"
   ]
  },
  {
   "cell_type": "markdown",
   "metadata": {},
   "source": [
    "左80%ベイズ予測区間が負の値を含む"
   ]
  },
  {
   "cell_type": "code",
   "execution_count": 83,
   "metadata": {
    "collapsed": true
   },
   "outputs": [],
   "source": [
    "y1_pred =ms1[\"y_pred\"].T\n",
    "y2_pred =ms2[\"y_pred\"].T\n",
    "df_y1_pred = pd.DataFrame([np.percentile(x,[10,25,50,75,90]).tolist() for x in y1_pred],columns=[\"p10\",\"p25\",\"p50\",\"p75\",\"p90\"])\n",
    "df_y2_pred = pd.DataFrame([np.percentile(x,[10,25,50,75,90]).tolist()  for x in y2_pred],columns=[\"p10\",\"p25\",\"p50\",\"p75\",\"p90\"])\n",
    "df_y1_pred[\"y_true\"] = df2.Y\n",
    "df_y2_pred[\"y_true\"] = np.log10(df2.Y)\n",
    "df_y2_pred = 10 ** df_y2_pred"
   ]
  },
  {
   "cell_type": "code",
   "execution_count": 85,
   "metadata": {
    "collapsed": false
   },
   "outputs": [
    {
     "data": {
      "text/plain": [
       "<matplotlib.text.Text at 0x11e589f28>"
      ]
     },
     "execution_count": 85,
     "metadata": {},
     "output_type": "execute_result"
    },
    {
     "data": {
      "image/png": "[encoded data removed]",
      "text/plain": [
       "<matplotlib.figure.Figure at 0x11cc9d320>"
      ]
     },
     "metadata": {},
     "output_type": "display_data"
    }
   ],
   "source": [
    "fig = plt.figure(figsize=(12,8))\n",
    "ax = fig.add_subplot(1,2,1)\n",
    "ax.plot([-200,2000], [-200,2000], 'k--', alpha=0.7)\n",
    "ax.errorbar(df_y1_pred.y_true, df_y1_pred.p50, yerr=[df_y1_pred.p50 - df_y1_pred.p10, df_y1_pred.p90 - df_y1_pred.p50],\n",
    "    fmt='o', ecolor='gray', ms=10, alpha=0.8, marker='o')\n",
    "ax.set_aspect('equal')\n",
    "ax.set_xlim(-200, 2000)\n",
    "ax.set_ylim(-200, 2000)\n",
    "ax.set_xlabel('Observed')\n",
    "ax.set_ylabel('Predicted')\n",
    "\n",
    "ax = fig.add_subplot(1,2,2)\n",
    "ax.plot([-200,2000], [-200,2000], 'k--', alpha=0.7)\n",
    "ax.errorbar(df_y2_pred.y_true, df_y2_pred.p50, yerr=[df_y2_pred.p50 - df_y2_pred.p10, df_y2_pred.p90 - df_y2_pred.p50],\n",
    "    fmt='o', ecolor='gray', ms=10, alpha=0.8, marker='o')\n",
    "ax.set_aspect('equal')\n",
    "ax.set_xlim(-200, 2000)\n",
    "ax.set_ylim(-200, 2000)\n",
    "ax.set_xlabel('Observed')\n",
    "ax.set_ylabel('Predicted')"
   ]
  },
  {
   "cell_type": "code",
   "execution_count": 90,
   "metadata": {
    "collapsed": false
   },
   "outputs": [],
   "source": [
    "df_y1_pred = df_y1_pred.assign(eps=lambda df:df.y_true-df.p50)\n",
    "df_y2_pred = df_y2_pred.assign(eps=lambda df:np.log10(df.y_true)-np.log10(df.p50))"
   ]
  },
  {
   "cell_type": "code",
   "execution_count": 102,
   "metadata": {
    "collapsed": false
   },
   "outputs": [
    {
     "name": "stderr",
     "output_type": "stream",
     "text": [
      "/Users/yuki.ohnishi/.pyenv/versions/analysis/lib/python3.5/site-packages/statsmodels/nonparametric/kdetools.py:20: VisibleDeprecationWarning: using a non-integer number instead of an integer will result in an error in the future\n",
      "  y = X[:m/2+1] + np.r_[0,X[m/2+1:],0]*1j\n"
     ]
    },
    {
     "data": {
      "image/png": "[encoded data removed]",
      "text/plain": [
       "<matplotlib.figure.Figure at 0x11edbe390>"
      ]
     },
     "metadata": {},
     "output_type": "display_data"
    }
   ],
   "source": [
    "fig = plt.figure(figsize=(12,5))\n",
    "ax1= fig.add_subplot(1,2,1)\n",
    "ax1= sns.distplot(df_y1_pred.eps)\n",
    "ax2= fig.add_subplot(1,2,2)\n",
    "ax2= sns.distplot(df_y2_pred.eps,ax=ax2)\n",
    "plt.show()"
   ]
  },
  {
   "cell_type": "markdown",
   "metadata": {},
   "source": [
    "左正規分布から歪んでいる：1000万円の30%の誤差が大きく分布を歪める。一方、対数スケールで撮ると、その誤差が緩和される。"
   ]
  },
  {
   "cell_type": "markdown",
   "metadata": {},
   "source": [
    "どちらを取るかは背景のメカニズム次第。対数スケールを取るのは倍々で増える仕組みが考えられる時など。"
   ]
  },
  {
   "cell_type": "markdown",
   "metadata": {},
   "source": [
    "#### 7.3 非線形な関係"
   ]
  },
  {
   "cell_type": "code",
   "execution_count": 2,
   "metadata": {
    "collapsed": true
   },
   "outputs": [],
   "source": [
    "df3 = pd.read_csv(\"input/data-aircon.txt\")"
   ]
  },
  {
   "cell_type": "code",
   "execution_count": 3,
   "metadata": {
    "collapsed": false
   },
   "outputs": [
    {
     "data": {
      "text/html": [
       "<div>\n",
       "<table border=\"1\" class=\"dataframe\">\n",
       "  <thead>\n",
       "    <tr style=\"text-align: right;\">\n",
       "      <th></th>\n",
       "      <th>X</th>\n",
       "      <th>Y</th>\n",
       "    </tr>\n",
       "  </thead>\n",
       "  <tbody>\n",
       "    <tr>\n",
       "      <th>0</th>\n",
       "      <td>-2.1</td>\n",
       "      <td>98.2</td>\n",
       "    </tr>\n",
       "    <tr>\n",
       "      <th>1</th>\n",
       "      <td>-1.9</td>\n",
       "      <td>109.3</td>\n",
       "    </tr>\n",
       "    <tr>\n",
       "      <th>2</th>\n",
       "      <td>-1.3</td>\n",
       "      <td>95.4</td>\n",
       "    </tr>\n",
       "    <tr>\n",
       "      <th>3</th>\n",
       "      <td>-1.4</td>\n",
       "      <td>93.5</td>\n",
       "    </tr>\n",
       "    <tr>\n",
       "      <th>4</th>\n",
       "      <td>-1.3</td>\n",
       "      <td>95.5</td>\n",
       "    </tr>\n",
       "  </tbody>\n",
       "</table>\n",
       "</div>"
      ],
      "text/plain": [
       "     X      Y\n",
       "0 -2.1   98.2\n",
       "1 -1.9  109.3\n",
       "2 -1.3   95.4\n",
       "3 -1.4   93.5\n",
       "4 -1.3   95.5"
      ]
     },
     "execution_count": 3,
     "metadata": {},
     "output_type": "execute_result"
    }
   ],
   "source": [
    "df3.head()"
   ]
  },
  {
   "cell_type": "code",
   "execution_count": 4,
   "metadata": {
    "collapsed": false
   },
   "outputs": [
    {
     "data": {
      "text/plain": [
       "<matplotlib.collections.PathCollection at 0x114572390>"
      ]
     },
     "execution_count": 4,
     "metadata": {},
     "output_type": "execute_result"
    },
    {
     "data": {
      "image/png": "[encoded data removed]",
      "text/plain": [
       "<matplotlib.figure.Figure at 0x10ce49828>"
      ]
     },
     "metadata": {},
     "output_type": "display_data"
    }
   ],
   "source": [
    "plt.scatter(df3.X, df3.Y)"
   ]
  },
  {
   "cell_type": "code",
   "execution_count": 18,
   "metadata": {
    "collapsed": false
   },
   "outputs": [],
   "source": [
    "X_new_73 = np.arange(-5,35)\n",
    "data73 = {\"N\":len(df3), \"X\":df3.X, \"Y\":df3.Y, \"N_new\":len(X_new_73), \"X_new\":X_new_73}\n",
    "fit3 = pystan.stan(file=\"stan/model7-3.stan\", data=data73, seed=1234)"
   ]
  },
  {
   "cell_type": "code",
   "execution_count": 19,
   "metadata": {
    "collapsed": false
   },
   "outputs": [],
   "source": [
    "ms3 = fit3.extract()"
   ]
  },
  {
   "cell_type": "code",
   "execution_count": 20,
   "metadata": {
    "collapsed": true
   },
   "outputs": [],
   "source": [
    "y3_new = ms3[\"y_new\"].T"
   ]
  },
  {
   "cell_type": "code",
   "execution_count": 21,
   "metadata": {
    "collapsed": false
   },
   "outputs": [
    {
     "data": {
      "text/plain": [
       "(40, 4000)"
      ]
     },
     "execution_count": 21,
     "metadata": {},
     "output_type": "execute_result"
    }
   ],
   "source": [
    "y3_new.shape"
   ]
  },
  {
   "cell_type": "code",
   "execution_count": 22,
   "metadata": {
    "collapsed": false
   },
   "outputs": [],
   "source": [
    "df3_new = pd.DataFrame([np.percentile(x, [10,25,50,75,90]).tolist() for x in y3_new] ,columns=[\"p10\",\"p25\",\"p50\",\"p75\",\"p90\"])"
   ]
  },
  {
   "cell_type": "code",
   "execution_count": 29,
   "metadata": {
    "collapsed": false
   },
   "outputs": [
    {
     "data": {
      "text/plain": [
       "(-5, 35)"
      ]
     },
     "execution_count": 29,
     "metadata": {},
     "output_type": "execute_result"
    },
    {
     "data": {
      "image/png": "[encoded data removed]",
      "text/plain": [
       "<matplotlib.figure.Figure at 0x116220208>"
      ]
     },
     "metadata": {},
     "output_type": "display_data"
    }
   ],
   "source": [
    "fig75 = plt.figure(figsize=(12,6))\n",
    "ax1 = fig75.add_subplot(1,2,1)\n",
    "ax1.scatter(df3.X, df3.Y)\n",
    "ax1.set_xlim(-5,35)\n",
    "ax2 = fig75.add_subplot(1,2,2)\n",
    "ax2.scatter(df3.X, df3.Y)\n",
    "ax2.plot(X_new_73, df3_new.p50,color=\"black\")\n",
    "ax2.fill_between(X_new_73, df3_new.p25, df3_new.p75, color=\"gray\", alpha=0.8)\n",
    "ax2.fill_between(X_new_73, df3_new.p10, df3_new.p90, color=\"gray\", alpha=0.3)\n",
    "ax2.set_xlim(-5,35)"
   ]
  },
  {
   "cell_type": "markdown",
   "metadata": {},
   "source": [
    "時系列データ"
   ]
  },
  {
   "cell_type": "code",
   "execution_count": 30,
   "metadata": {
    "collapsed": true
   },
   "outputs": [],
   "source": [
    "df_conc = pd.read_csv(\"input/data-conc.txt\")"
   ]
  },
  {
   "cell_type": "code",
   "execution_count": 31,
   "metadata": {
    "collapsed": false
   },
   "outputs": [
    {
     "data": {
      "text/html": [
       "<div>\n",
       "<table border=\"1\" class=\"dataframe\">\n",
       "  <thead>\n",
       "    <tr style=\"text-align: right;\">\n",
       "      <th></th>\n",
       "      <th>Time</th>\n",
       "      <th>Y</th>\n",
       "    </tr>\n",
       "  </thead>\n",
       "  <tbody>\n",
       "    <tr>\n",
       "      <th>0</th>\n",
       "      <td>1</td>\n",
       "      <td>2.4</td>\n",
       "    </tr>\n",
       "    <tr>\n",
       "      <th>1</th>\n",
       "      <td>2</td>\n",
       "      <td>5.0</td>\n",
       "    </tr>\n",
       "    <tr>\n",
       "      <th>2</th>\n",
       "      <td>4</td>\n",
       "      <td>7.5</td>\n",
       "    </tr>\n",
       "    <tr>\n",
       "      <th>3</th>\n",
       "      <td>8</td>\n",
       "      <td>11.9</td>\n",
       "    </tr>\n",
       "    <tr>\n",
       "      <th>4</th>\n",
       "      <td>12</td>\n",
       "      <td>12.5</td>\n",
       "    </tr>\n",
       "    <tr>\n",
       "      <th>5</th>\n",
       "      <td>24</td>\n",
       "      <td>12.7</td>\n",
       "    </tr>\n",
       "  </tbody>\n",
       "</table>\n",
       "</div>"
      ],
      "text/plain": [
       "   Time     Y\n",
       "0     1   2.4\n",
       "1     2   5.0\n",
       "2     4   7.5\n",
       "3     8  11.9\n",
       "4    12  12.5\n",
       "5    24  12.7"
      ]
     },
     "execution_count": 31,
     "metadata": {},
     "output_type": "execute_result"
    }
   ],
   "source": [
    "df_conc"
   ]
  },
  {
   "cell_type": "code",
   "execution_count": 45,
   "metadata": {
    "collapsed": false
   },
   "outputs": [],
   "source": [
    "X_new_conc = np.arange(0,25)\n",
    "data74 = {\"T\":len(df_conc), \"Time\":df_conc.Time, \"Y\":df_conc.Y, \"T_new\":len(X_new_conc), \"Time_new\":X_new_conc}\n",
    "fit74 = pystan.stan(file=\"stan/model7-4.stan\", data=data74, seed=1234)"
   ]
  },
  {
   "cell_type": "code",
   "execution_count": 46,
   "metadata": {
    "collapsed": true
   },
   "outputs": [],
   "source": [
    "ms74 = fit74.extract()\n",
    "y74_new = ms74[\"y_new\"].T\n",
    "df74_new = pd.DataFrame([np.percentile(x, [10,25,50,75,90]).tolist() for x in y74_new] ,columns=[\"p10\",\"p25\",\"p50\",\"p75\",\"p90\"])"
   ]
  },
  {
   "cell_type": "code",
   "execution_count": 47,
   "metadata": {
    "collapsed": false
   },
   "outputs": [
    {
     "data": {
      "text/html": [
       "<div>\n",
       "<table border=\"1\" class=\"dataframe\">\n",
       "  <thead>\n",
       "    <tr style=\"text-align: right;\">\n",
       "      <th></th>\n",
       "      <th>p10</th>\n",
       "      <th>p25</th>\n",
       "      <th>p50</th>\n",
       "      <th>p75</th>\n",
       "      <th>p90</th>\n",
       "    </tr>\n",
       "  </thead>\n",
       "  <tbody>\n",
       "    <tr>\n",
       "      <th>0</th>\n",
       "      <td>-1.001514</td>\n",
       "      <td>-0.467649</td>\n",
       "      <td>0.017008</td>\n",
       "      <td>0.506849</td>\n",
       "      <td>1.031773</td>\n",
       "    </tr>\n",
       "    <tr>\n",
       "      <th>1</th>\n",
       "      <td>1.732044</td>\n",
       "      <td>2.299285</td>\n",
       "      <td>2.798438</td>\n",
       "      <td>3.320784</td>\n",
       "      <td>3.979204</td>\n",
       "    </tr>\n",
       "    <tr>\n",
       "      <th>2</th>\n",
       "      <td>3.889469</td>\n",
       "      <td>4.463062</td>\n",
       "      <td>4.981377</td>\n",
       "      <td>5.552983</td>\n",
       "      <td>6.261971</td>\n",
       "    </tr>\n",
       "    <tr>\n",
       "      <th>3</th>\n",
       "      <td>5.556128</td>\n",
       "      <td>6.143009</td>\n",
       "      <td>6.692339</td>\n",
       "      <td>7.256204</td>\n",
       "      <td>7.979612</td>\n",
       "    </tr>\n",
       "    <tr>\n",
       "      <th>4</th>\n",
       "      <td>6.848756</td>\n",
       "      <td>7.468017</td>\n",
       "      <td>8.022811</td>\n",
       "      <td>8.584176</td>\n",
       "      <td>9.285079</td>\n",
       "    </tr>\n",
       "  </tbody>\n",
       "</table>\n",
       "</div>"
      ],
      "text/plain": [
       "        p10       p25       p50       p75       p90\n",
       "0 -1.001514 -0.467649  0.017008  0.506849  1.031773\n",
       "1  1.732044  2.299285  2.798438  3.320784  3.979204\n",
       "2  3.889469  4.463062  4.981377  5.552983  6.261971\n",
       "3  5.556128  6.143009  6.692339  7.256204  7.979612\n",
       "4  6.848756  7.468017  8.022811  8.584176  9.285079"
      ]
     },
     "execution_count": 47,
     "metadata": {},
     "output_type": "execute_result"
    }
   ],
   "source": [
    "df74_new.head()"
   ]
  },
  {
   "cell_type": "code",
   "execution_count": 49,
   "metadata": {
    "collapsed": false
   },
   "outputs": [
    {
     "data": {
      "text/plain": [
       "(-2, 16)"
      ]
     },
     "execution_count": 49,
     "metadata": {},
     "output_type": "execute_result"
    },
    {
     "data": {
      "image/png": "[encoded data removed]",
      "text/plain": [
       "<matplotlib.figure.Figure at 0x114fb2358>"
      ]
     },
     "metadata": {},
     "output_type": "display_data"
    }
   ],
   "source": [
    "fig76 = plt.figure(figsize=(12,6))\n",
    "ax1 = fig76.add_subplot(1,2,1)\n",
    "ax1.scatter(df_conc.Time, df_conc.Y, s=100)\n",
    "ax1.plot(df_conc.Time, df_conc.Y, \"k-\")\n",
    "ax1.set_xlim(0,25)\n",
    "ax1.set_ylim(-2,16)\n",
    "ax2 = fig76.add_subplot(1,2,2)\n",
    "ax2.scatter(df_conc.Time, df_conc.Y, s=100)\n",
    "ax2.plot(X_new_conc, df74_new.p50,color=\"black\")\n",
    "ax2.fill_between(X_new_conc, df74_new.p25, df74_new.p75, color=\"gray\", alpha=0.8)\n",
    "ax2.fill_between(X_new_conc, df74_new.p10, df74_new.p90, color=\"gray\", alpha=0.3)\n",
    "ax2.set_xlim(0,25)\n",
    "ax2.set_ylim(-2,16)"
   ]
  },
  {
   "cell_type": "markdown",
   "metadata": {},
   "source": [
    "#### 7.5 交絡"
   ]
  },
  {
   "cell_type": "code",
   "execution_count": 2,
   "metadata": {
    "collapsed": true
   },
   "outputs": [],
   "source": [
    "df75= pd.read_csv(\"input/data-50m.txt\")"
   ]
  },
  {
   "cell_type": "code",
   "execution_count": 5,
   "metadata": {
    "collapsed": false
   },
   "outputs": [
    {
     "data": {
      "text/plain": [
       "<matplotlib.text.Text at 0x108a95c88>"
      ]
     },
     "execution_count": 5,
     "metadata": {},
     "output_type": "execute_result"
    },
    {
     "data": {
      "image/png": "[encoded data removed]",
      "text/plain": [
       "<matplotlib.figure.Figure at 0x10888ce48>"
      ]
     },
     "metadata": {},
     "output_type": "display_data"
    }
   ],
   "source": [
    "plt.scatter(df75.Weight, df75.Y)\n",
    "plt.xlabel(\"Weight\")\n",
    "plt.ylabel(\"Velocity\")"
   ]
  },
  {
   "cell_type": "code",
   "execution_count": 6,
   "metadata": {
    "collapsed": false
   },
   "outputs": [
    {
     "data": {
      "text/html": [
       "<div>\n",
       "<table border=\"1\" class=\"dataframe\">\n",
       "  <thead>\n",
       "    <tr style=\"text-align: right;\">\n",
       "      <th></th>\n",
       "      <th>Y</th>\n",
       "      <th>Weight</th>\n",
       "      <th>Age</th>\n",
       "    </tr>\n",
       "  </thead>\n",
       "  <tbody>\n",
       "    <tr>\n",
       "      <th>0</th>\n",
       "      <td>2.46</td>\n",
       "      <td>16.6</td>\n",
       "      <td>7</td>\n",
       "    </tr>\n",
       "    <tr>\n",
       "      <th>1</th>\n",
       "      <td>3.02</td>\n",
       "      <td>21.4</td>\n",
       "      <td>7</td>\n",
       "    </tr>\n",
       "    <tr>\n",
       "      <th>2</th>\n",
       "      <td>2.91</td>\n",
       "      <td>24.0</td>\n",
       "      <td>7</td>\n",
       "    </tr>\n",
       "    <tr>\n",
       "      <th>3</th>\n",
       "      <td>3.05</td>\n",
       "      <td>13.0</td>\n",
       "      <td>7</td>\n",
       "    </tr>\n",
       "    <tr>\n",
       "      <th>4</th>\n",
       "      <td>2.60</td>\n",
       "      <td>21.9</td>\n",
       "      <td>7</td>\n",
       "    </tr>\n",
       "  </tbody>\n",
       "</table>\n",
       "</div>"
      ],
      "text/plain": [
       "      Y  Weight  Age\n",
       "0  2.46    16.6    7\n",
       "1  3.02    21.4    7\n",
       "2  2.91    24.0    7\n",
       "3  3.05    13.0    7\n",
       "4  2.60    21.9    7"
      ]
     },
     "execution_count": 6,
     "metadata": {},
     "output_type": "execute_result"
    }
   ],
   "source": [
    "df75.head()"
   ]
  },
  {
   "cell_type": "code",
   "execution_count": 52,
   "metadata": {
    "collapsed": false
   },
   "outputs": [],
   "source": [
    "data75 = {\"N\":len(df75), \"Weight\":df75.Weight, \"Age\":df75.Age, \"Y\":df75.Y}\n",
    "fit75 = pystan.stan(file=\"stan/model7-5.stan\", data=data75, seed=1234,pars=[\"c2\", \"b2\", \"b3\"])"
   ]
  },
  {
   "cell_type": "code",
   "execution_count": 53,
   "metadata": {
    "collapsed": true
   },
   "outputs": [],
   "source": [
    "ms75 = fit75.extract()\n",
    "c2 = ms75[\"c2\"].T\n",
    "b2 = ms75[\"b2\"].T\n",
    "b3 = ms75[\"b3\"].T"
   ]
  },
  {
   "cell_type": "code",
   "execution_count": 65,
   "metadata": {
    "collapsed": false
   },
   "outputs": [
    {
     "data": {
      "text/plain": [
       "(4000,)"
      ]
     },
     "execution_count": 65,
     "metadata": {},
     "output_type": "execute_result"
    }
   ],
   "source": [
    "c2.shape"
   ]
  },
  {
   "cell_type": "code",
   "execution_count": 67,
   "metadata": {
    "collapsed": false
   },
   "outputs": [],
   "source": [
    "c2_low, c2_med, c3_upp =  np.percentile(c2, [2.5, 50, 97.5])\n",
    "b2_low, b2_med, b2_upp = np.percentile(b2, [2.5, 50, 97.5])\n",
    "b3_low, b3_med, b3_upp = np.percentile(b3, [2.5, 50, 97.5])"
   ]
  },
  {
   "cell_type": "code",
   "execution_count": 69,
   "metadata": {
    "collapsed": false
   },
   "outputs": [
    {
     "name": "stdout",
     "output_type": "stream",
     "text": [
      "3.45126378375 3.93788394936 4.46756908646\n",
      "0.498309337125 0.588092002028 0.680748673923\n",
      "-0.0555473089828 -0.0347385705978 -0.0142846278254\n"
     ]
    }
   ],
   "source": [
    "print(c2_low, c2_med, c3_upp) # 体重への年齢の影響（正）\n",
    "print(b2_low, b2_med, b2_upp) # 速さへの年齢の影響（正）\n",
    "print(b3_low, b3_med, b3_upp) # 速さへの体重の影響（負）"
   ]
  },
  {
   "cell_type": "markdown",
   "metadata": {},
   "source": [
    "#### 7.7 説明変数にノイズを含む"
   ]
  },
  {
   "cell_type": "code",
   "execution_count": 7,
   "metadata": {
    "collapsed": true
   },
   "outputs": [],
   "source": [
    "df76 = pd.read_csv(\"input/data-salary.txt\")"
   ]
  },
  {
   "cell_type": "code",
   "execution_count": 8,
   "metadata": {
    "collapsed": false
   },
   "outputs": [
    {
     "data": {
      "text/html": [
       "<div>\n",
       "<table border=\"1\" class=\"dataframe\">\n",
       "  <thead>\n",
       "    <tr style=\"text-align: right;\">\n",
       "      <th></th>\n",
       "      <th>X</th>\n",
       "      <th>Y</th>\n",
       "    </tr>\n",
       "  </thead>\n",
       "  <tbody>\n",
       "    <tr>\n",
       "      <th>0</th>\n",
       "      <td>24</td>\n",
       "      <td>472</td>\n",
       "    </tr>\n",
       "    <tr>\n",
       "      <th>1</th>\n",
       "      <td>24</td>\n",
       "      <td>403</td>\n",
       "    </tr>\n",
       "    <tr>\n",
       "      <th>2</th>\n",
       "      <td>26</td>\n",
       "      <td>454</td>\n",
       "    </tr>\n",
       "    <tr>\n",
       "      <th>3</th>\n",
       "      <td>32</td>\n",
       "      <td>575</td>\n",
       "    </tr>\n",
       "    <tr>\n",
       "      <th>4</th>\n",
       "      <td>33</td>\n",
       "      <td>546</td>\n",
       "    </tr>\n",
       "  </tbody>\n",
       "</table>\n",
       "</div>"
      ],
      "text/plain": [
       "    X    Y\n",
       "0  24  472\n",
       "1  24  403\n",
       "2  26  454\n",
       "3  32  575\n",
       "4  33  546"
      ]
     },
     "execution_count": 8,
     "metadata": {},
     "output_type": "execute_result"
    }
   ],
   "source": [
    "df76.head()"
   ]
  },
  {
   "cell_type": "code",
   "execution_count": 78,
   "metadata": {
    "collapsed": false
   },
   "outputs": [],
   "source": [
    "data76 = {\"N\":len(df76), \"X\":df76.X, \"Y\":df76.Y}\n",
    "fit76 = pystan.stan(file=\"stan/model7-6.stan\", data=data76, seed=1234)"
   ]
  },
  {
   "cell_type": "code",
   "execution_count": 79,
   "metadata": {
    "collapsed": false
   },
   "outputs": [
    {
     "data": {
      "text/plain": [
       "Inference for Stan model: anon_model_0d49670ff450f47a654e65de5873fedf.\n",
       "4 chains, each with iter=2000; warmup=1000; thin=1; \n",
       "post-warmup draws per chain=1000, total post-warmup draws=4000.\n",
       "\n",
       "             mean se_mean     sd   2.5%    25%    50%    75%  97.5%  n_eff   Rhat\n",
       "a          -125.3    2.67  74.08 -271.1 -172.8 -123.5 -76.64  22.57    770    1.0\n",
       "b           22.03    0.06   1.64  18.73  20.98  22.02  23.06  25.23    770    1.0\n",
       "x_true[0]   25.48    0.06   2.05  21.25  24.12  25.56   26.9  29.32   1002    1.0\n",
       "x_true[1]   24.02    0.05   1.94  20.23  22.68  24.01  25.35  27.84   1334    1.0\n",
       "x_true[2]   26.19    0.06   1.97  22.33  24.85  26.21  27.52  30.01   1216    1.0\n",
       "x_true[3]   31.93    0.05   1.91  28.15  30.67  31.96  33.23   35.6   1209    1.0\n",
       "x_true[4]   31.83    0.05   1.91  28.04  30.53  31.82  33.08  35.57   1258    1.0\n",
       "x_true[5]    37.9    0.07   2.08  33.58  36.57   38.0  39.37  41.67    938    1.0\n",
       "x_true[6]   38.81    0.05   1.88  35.07  37.61  38.83  40.13  42.37   1334    1.0\n",
       "x_true[7]   36.67    0.07   2.08   32.9  35.21  36.59  38.04  41.01    986    1.0\n",
       "x_true[8]   41.28    0.06   1.93  37.31  40.02  41.34   42.6  44.95   1096    1.0\n",
       "x_true[9]   42.33    0.05   1.88  38.68  41.07  42.33  43.53  46.14   1334    1.0\n",
       "x_true[10]  41.35    0.05   1.91  37.79  40.01  41.28  42.58  45.32   1334    1.0\n",
       "x_true[11]  43.85    0.05    1.8   40.3  42.67  43.82  45.04  47.36   1334    1.0\n",
       "x_true[12]  46.67    0.05   1.93  43.05  45.36  46.61   47.9  50.67   1334    1.0\n",
       "x_true[13]  51.34    0.06   1.92  47.75  50.05  51.29   52.6  55.22   1219    1.0\n",
       "x_true[14]  55.56    0.05   1.93  51.96  54.23   55.5  56.88   59.4   1334    1.0\n",
       "x_true[15]  53.79    0.06    2.0  50.05  52.37  53.72  55.09   57.8   1032    1.0\n",
       "x_true[16]  59.17    0.06   2.01  55.15  57.84   59.2  60.56  62.94   1247    1.0\n",
       "x_true[17]  59.09    0.05   1.89   55.4  57.83  59.11  60.39  62.84   1252    1.0\n",
       "x_true[18]  57.85    0.06   1.93  54.27  56.53  57.78  59.14  61.73   1182    1.0\n",
       "x_true[19]  61.97    0.06   2.09   57.7  60.61  62.02  63.44  65.92   1113    1.0\n",
       "sigma       61.25    0.77  19.19  30.58  47.48  59.33  72.51 104.75    616    1.0\n",
       "lp__       -96.95    0.22   4.71 -106.6 -100.1 -96.73 -93.73 -88.17    473    1.0\n",
       "\n",
       "Samples were drawn using NUTS(diag_e) at Fri Nov 25 00:47:15 2016.\n",
       "For each parameter, n_eff is a crude measure of effective sample size,\n",
       "and Rhat is the potential scale reduction factor on split chains (at \n",
       "convergence, Rhat=1)."
      ]
     },
     "execution_count": 79,
     "metadata": {},
     "output_type": "execute_result"
    }
   ],
   "source": [
    "fit76"
   ]
  },
  {
   "cell_type": "markdown",
   "metadata": {},
   "source": [
    "#### 7.8 打ち切り"
   ]
  },
  {
   "cell_type": "code",
   "execution_count": 2,
   "metadata": {
    "collapsed": true
   },
   "outputs": [],
   "source": [
    "df77 = pd.read_csv(\"input/data-protein.txt\")"
   ]
  },
  {
   "cell_type": "code",
   "execution_count": 3,
   "metadata": {
    "collapsed": false
   },
   "outputs": [
    {
     "data": {
      "text/html": [
       "<div>\n",
       "<table border=\"1\" class=\"dataframe\">\n",
       "  <thead>\n",
       "    <tr style=\"text-align: right;\">\n",
       "      <th></th>\n",
       "      <th>Y</th>\n",
       "    </tr>\n",
       "  </thead>\n",
       "  <tbody>\n",
       "    <tr>\n",
       "      <th>0</th>\n",
       "      <td>&lt;25</td>\n",
       "    </tr>\n",
       "    <tr>\n",
       "      <th>1</th>\n",
       "      <td>32.3</td>\n",
       "    </tr>\n",
       "    <tr>\n",
       "      <th>2</th>\n",
       "      <td>&lt;25</td>\n",
       "    </tr>\n",
       "    <tr>\n",
       "      <th>3</th>\n",
       "      <td>28.3</td>\n",
       "    </tr>\n",
       "    <tr>\n",
       "      <th>4</th>\n",
       "      <td>30.8</td>\n",
       "    </tr>\n",
       "    <tr>\n",
       "      <th>5</th>\n",
       "      <td>35.2</td>\n",
       "    </tr>\n",
       "  </tbody>\n",
       "</table>\n",
       "</div>"
      ],
      "text/plain": [
       "      Y\n",
       "0   <25\n",
       "1  32.3\n",
       "2   <25\n",
       "3  28.3\n",
       "4  30.8\n",
       "5  35.2"
      ]
     },
     "execution_count": 3,
     "metadata": {},
     "output_type": "execute_result"
    }
   ],
   "source": [
    "df77"
   ]
  },
  {
   "cell_type": "code",
   "execution_count": 11,
   "metadata": {
    "collapsed": false
   },
   "outputs": [
    {
     "data": {
      "text/plain": [
       "['32.3', '28.3', '30.8', '35.2']"
      ]
     },
     "execution_count": 11,
     "metadata": {},
     "output_type": "execute_result"
    }
   ],
   "source": [
    "Y_obs"
   ]
  },
  {
   "cell_type": "code",
   "execution_count": 37,
   "metadata": {
    "collapsed": false
   },
   "outputs": [],
   "source": [
    "df77[\"flg\"] = df77.Y.str.contains(\"<\")\n",
    "N_obs = len(df77[df77.flg ==False])\n",
    "N_cens = len(df77[df77.flg ==True])\n",
    "Y_obs = df77[df77.flg ==False].Y.astype(np.float).tolist()\n",
    "L = 25 # 手抜き\n",
    "data77 = {\"N_obs\":N_obs, \"N_cens\":N_cens, \"Y_obs\":Y_obs, \"L\":L}\n",
    "fit77 = pystan.stan(file=\"stan/model7-7.stan\", data=data77, seed=1234)"
   ]
  },
  {
   "cell_type": "code",
   "execution_count": 38,
   "metadata": {
    "collapsed": false
   },
   "outputs": [
    {
     "data": {
      "text/plain": [
       "Inference for Stan model: anon_model_f54576c979baed873782e47bdfbe16a3.\n",
       "4 chains, each with iter=2000; warmup=1000; thin=1; \n",
       "post-warmup draws per chain=1000, total post-warmup draws=4000.\n",
       "\n",
       "        mean se_mean     sd   2.5%    25%    50%    75%  97.5%  n_eff   Rhat\n",
       "mu     24.77    0.53  10.93  -2.44  23.04  27.08  29.65   36.8    433   1.01\n",
       "sigma  14.87    0.75  16.56   3.92   6.72   9.79   16.6  60.05    485   1.01\n",
       "lp__  -10.26    0.07   1.44  -14.3  -10.8  -9.84  -9.21  -8.84    445   1.01\n",
       "\n",
       "Samples were drawn using NUTS at Fri Nov 25 01:44:17 2016.\n",
       "For each parameter, n_eff is a crude measure of effective sample size,\n",
       "and Rhat is the potential scale reduction factor on split chains (at \n",
       "convergence, Rhat=1)."
      ]
     },
     "execution_count": 38,
     "metadata": {},
     "output_type": "execute_result"
    }
   ],
   "source": [
    "fit77"
   ]
  },
  {
   "cell_type": "markdown",
   "metadata": {},
   "source": [
    "#### 7.9 外れ値"
   ]
  },
  {
   "cell_type": "code",
   "execution_count": 12,
   "metadata": {
    "collapsed": true
   },
   "outputs": [],
   "source": [
    "df79 = pd.read_csv(\"input/data-outlier.txt\")"
   ]
  },
  {
   "cell_type": "code",
   "execution_count": 17,
   "metadata": {
    "collapsed": false
   },
   "outputs": [],
   "source": [
    "X_new_79 = np.arange(0,11)\n",
    "data79 = {'N':len(df79), 'X':df79.X, 'Y': df79.Y, \"N_new\": len(X_new_79), \"X_new\":X_new_79}\n",
    "fit79 = pystan.stan(file='stan/model7-9.stan', data=data79, seed=1234)"
   ]
  },
  {
   "cell_type": "code",
   "execution_count": 21,
   "metadata": {
    "collapsed": true
   },
   "outputs": [],
   "source": [
    "ms79 = fit79.extract()\n",
    "y79_new = ms79[\"y_new\"].T"
   ]
  },
  {
   "cell_type": "code",
   "execution_count": 23,
   "metadata": {
    "collapsed": false
   },
   "outputs": [
    {
     "data": {
      "text/plain": [
       "(11, 4000)"
      ]
     },
     "execution_count": 23,
     "metadata": {},
     "output_type": "execute_result"
    }
   ],
   "source": [
    "y79_new.shape"
   ]
  },
  {
   "cell_type": "code",
   "execution_count": 32,
   "metadata": {
    "collapsed": false
   },
   "outputs": [],
   "source": [
    "df79_new = pd.DataFrame([np.percentile(x,[2.5,25,50,75,97.5]) for x in y79_new], columns=[\"p2.5\",\"p25\", \"p50\", \"p75\",\"p97.5\"])"
   ]
  },
  {
   "cell_type": "code",
   "execution_count": 33,
   "metadata": {
    "collapsed": false
   },
   "outputs": [
    {
     "data": {
      "text/html": [
       "<div>\n",
       "<table border=\"1\" class=\"dataframe\">\n",
       "  <thead>\n",
       "    <tr style=\"text-align: right;\">\n",
       "      <th></th>\n",
       "      <th>p2.5</th>\n",
       "      <th>p25</th>\n",
       "      <th>p50</th>\n",
       "      <th>p75</th>\n",
       "      <th>p97.5</th>\n",
       "    </tr>\n",
       "  </thead>\n",
       "  <tbody>\n",
       "    <tr>\n",
       "      <th>0</th>\n",
       "      <td>-10.515856</td>\n",
       "      <td>-0.859187</td>\n",
       "      <td>-0.019352</td>\n",
       "      <td>0.918510</td>\n",
       "      <td>9.308082</td>\n",
       "    </tr>\n",
       "    <tr>\n",
       "      <th>1</th>\n",
       "      <td>-7.035456</td>\n",
       "      <td>3.235583</td>\n",
       "      <td>4.056023</td>\n",
       "      <td>5.018212</td>\n",
       "      <td>14.553643</td>\n",
       "    </tr>\n",
       "    <tr>\n",
       "      <th>2</th>\n",
       "      <td>-1.246830</td>\n",
       "      <td>7.305977</td>\n",
       "      <td>8.079959</td>\n",
       "      <td>8.996308</td>\n",
       "      <td>17.354179</td>\n",
       "    </tr>\n",
       "    <tr>\n",
       "      <th>3</th>\n",
       "      <td>1.517994</td>\n",
       "      <td>11.403579</td>\n",
       "      <td>12.154101</td>\n",
       "      <td>13.004125</td>\n",
       "      <td>21.876200</td>\n",
       "    </tr>\n",
       "    <tr>\n",
       "      <th>4</th>\n",
       "      <td>8.048620</td>\n",
       "      <td>15.426710</td>\n",
       "      <td>16.208000</td>\n",
       "      <td>17.001095</td>\n",
       "      <td>26.603722</td>\n",
       "    </tr>\n",
       "    <tr>\n",
       "      <th>5</th>\n",
       "      <td>10.823202</td>\n",
       "      <td>19.498295</td>\n",
       "      <td>20.244943</td>\n",
       "      <td>21.010429</td>\n",
       "      <td>31.016463</td>\n",
       "    </tr>\n",
       "    <tr>\n",
       "      <th>6</th>\n",
       "      <td>14.614646</td>\n",
       "      <td>23.579726</td>\n",
       "      <td>24.312814</td>\n",
       "      <td>25.054037</td>\n",
       "      <td>33.182010</td>\n",
       "    </tr>\n",
       "    <tr>\n",
       "      <th>7</th>\n",
       "      <td>20.173516</td>\n",
       "      <td>27.651824</td>\n",
       "      <td>28.381258</td>\n",
       "      <td>29.086568</td>\n",
       "      <td>39.312880</td>\n",
       "    </tr>\n",
       "    <tr>\n",
       "      <th>8</th>\n",
       "      <td>22.768130</td>\n",
       "      <td>31.622523</td>\n",
       "      <td>32.409944</td>\n",
       "      <td>33.095627</td>\n",
       "      <td>42.974339</td>\n",
       "    </tr>\n",
       "    <tr>\n",
       "      <th>9</th>\n",
       "      <td>25.110051</td>\n",
       "      <td>35.618659</td>\n",
       "      <td>36.473416</td>\n",
       "      <td>37.177525</td>\n",
       "      <td>47.424842</td>\n",
       "    </tr>\n",
       "    <tr>\n",
       "      <th>10</th>\n",
       "      <td>30.569186</td>\n",
       "      <td>39.633326</td>\n",
       "      <td>40.533142</td>\n",
       "      <td>41.246031</td>\n",
       "      <td>49.614166</td>\n",
       "    </tr>\n",
       "  </tbody>\n",
       "</table>\n",
       "</div>"
      ],
      "text/plain": [
       "         p2.5        p25        p50        p75      p97.5\n",
       "0  -10.515856  -0.859187  -0.019352   0.918510   9.308082\n",
       "1   -7.035456   3.235583   4.056023   5.018212  14.553643\n",
       "2   -1.246830   7.305977   8.079959   8.996308  17.354179\n",
       "3    1.517994  11.403579  12.154101  13.004125  21.876200\n",
       "4    8.048620  15.426710  16.208000  17.001095  26.603722\n",
       "5   10.823202  19.498295  20.244943  21.010429  31.016463\n",
       "6   14.614646  23.579726  24.312814  25.054037  33.182010\n",
       "7   20.173516  27.651824  28.381258  29.086568  39.312880\n",
       "8   22.768130  31.622523  32.409944  33.095627  42.974339\n",
       "9   25.110051  35.618659  36.473416  37.177525  47.424842\n",
       "10  30.569186  39.633326  40.533142  41.246031  49.614166"
      ]
     },
     "execution_count": 33,
     "metadata": {},
     "output_type": "execute_result"
    }
   ],
   "source": [
    "df79_new"
   ]
  },
  {
   "cell_type": "code",
   "execution_count": 35,
   "metadata": {
    "collapsed": false
   },
   "outputs": [
    {
     "data": {
      "text/plain": [
       "<matplotlib.collections.PolyCollection at 0x1159e2780>"
      ]
     },
     "execution_count": 35,
     "metadata": {},
     "output_type": "execute_result"
    },
    {
     "data": {
      "image/png": "[encoded data removed]",
      "text/plain": [
       "<matplotlib.figure.Figure at 0x115aabe80>"
      ]
     },
     "metadata": {},
     "output_type": "display_data"
    }
   ],
   "source": [
    "plt.title(\"regression using cauchy distribution for noise\")\n",
    "plt.scatter(df79.X, df79.Y, s=80, alpha=0.1, lw=2,edgecolors=\"black\")\n",
    "plt.plot(X_new_79, df79_new.p50, color=\"black\")\n",
    "plt.fill_between(X_new_79, df79_new.p25, df79_new.p75, color=\"gray\", alpha=0.8)\n",
    "plt.fill_between(X_new_79, df79_new[\"p2.5\"], df79_new[\"p97.5\"], color=\"gray\", alpha=0.2)"
   ]
  },
  {
   "cell_type": "markdown",
   "metadata": {},
   "source": [
    "ノイズの生成分布に裾の長いコーシー分布を使用することで、外れ値に対して、ロバストな予測ができている。"
   ]
  },
  {
   "cell_type": "code",
   "execution_count": null,
   "metadata": {
    "collapsed": true
   },
   "outputs": [],
   "source": []
  }
 ],
 "metadata": {
  "kernelspec": {
   "display_name": "Python 3",
   "language": "python",
   "name": "python3"
  },
  "language_info": {
   "codemirror_mode": {
    "name": "ipython",
    "version": 3
   },
   "file_extension": ".py",
   "mimetype": "text/x-python",
   "name": "python",
   "nbconvert_exporter": "python",
   "pygments_lexer": "ipython3",
   "version": "3.5.0"
  }
 },
 "nbformat": 4,
 "nbformat_minor": 0
}
