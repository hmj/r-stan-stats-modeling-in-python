{
 "cells": [
  {
   "cell_type": "code",
   "execution_count": 44,
   "metadata": {
    "collapsed": true
   },
   "outputs": [],
   "source": [
    "import pandas as pd\n",
    "import numpy as np\n",
    "from scipy.stats import bernoulli\n",
    "import seaborn as sns\n",
    "import scipy\n",
    "%matplotlib inline"
   ]
  },
  {
   "cell_type": "code",
   "execution_count": 28,
   "metadata": {
    "collapsed": false
   },
   "outputs": [],
   "source": [
    "# (2)乱数生成"
   ]
  },
  {
   "cell_type": "code",
   "execution_count": 23,
   "metadata": {
    "collapsed": false
   },
   "outputs": [
    {
     "data": {
      "text/plain": [
       "array([ 1.0369592 ,  2.204357  ,  3.27042722,  1.27970945,  4.38464654,\n",
       "        4.19853747,  1.30357495,  2.0402845 ,  4.50304433,  3.51292691])"
      ]
     },
     "execution_count": 23,
     "metadata": {},
     "output_type": "execute_result"
    }
   ],
   "source": [
    "np.random.uniform(1,5,10)"
   ]
  },
  {
   "cell_type": "code",
   "execution_count": 29,
   "metadata": {
    "collapsed": false
   },
   "outputs": [
    {
     "data": {
      "text/plain": [
       "array([0, 0, 0, 0, 0, 1, 0, 0, 0, 1, 1, 1, 0, 1, 0, 0, 0, 0, 0, 1, 0, 0, 0,\n",
       "       0, 0, 0, 0, 1, 0, 0, 0, 0, 1, 0, 1, 1, 0, 0, 0, 1, 1, 0, 1, 0, 0, 0,\n",
       "       0, 0, 0, 0, 0, 0, 1, 0, 0, 0, 0, 1, 0, 0, 1, 0, 1, 0, 0, 0, 1, 0, 0,\n",
       "       0, 1, 1, 1, 0, 0, 0, 0, 0, 0, 0, 0, 0, 0, 1, 0, 0, 0, 0, 0, 0, 1, 0,\n",
       "       0, 0, 1, 0, 0, 0, 1, 0])"
      ]
     },
     "execution_count": 29,
     "metadata": {},
     "output_type": "execute_result"
    }
   ],
   "source": [
    "np.random.binomial(1,0.3,100)"
   ]
  },
  {
   "cell_type": "code",
   "execution_count": 25,
   "metadata": {
    "collapsed": false
   },
   "outputs": [
    {
     "data": {
      "text/plain": [
       "array([1, 2, 5, 2, 6, 3, 5, 1, 2, 1, 2, 1, 3, 4, 3, 5, 2, 2, 3, 3, 5, 4, 2,\n",
       "       2, 3, 5, 1, 0, 5, 4, 6, 5, 1, 1, 1, 3, 3, 2, 1, 4, 4, 3, 4, 3, 2, 3,\n",
       "       3, 3, 3, 3, 3, 3, 2, 2, 3, 4, 4, 4, 4, 1, 4, 1, 2, 3, 4, 3, 2, 4, 3,\n",
       "       4, 5, 5, 3, 2, 2, 5, 3, 3, 1, 4, 1, 1, 3, 4, 3, 0, 3, 3, 3, 3, 2, 4,\n",
       "       3, 5, 5, 4, 2, 1, 2, 2])"
      ]
     },
     "execution_count": 25,
     "metadata": {},
     "output_type": "execute_result"
    }
   ],
   "source": [
    "np.random.binomial(10,0.3,100)"
   ]
  },
  {
   "cell_type": "code",
   "execution_count": 27,
   "metadata": {
    "collapsed": false
   },
   "outputs": [
    {
     "data": {
      "text/plain": [
       "array([ 0.82908404,  0.9992153 ,  0.5705706 ,  0.03200246,  0.99947741,\n",
       "        0.19214475,  0.24805056,  0.36501753,  0.47999837,  0.0281604 ])"
      ]
     },
     "execution_count": 27,
     "metadata": {},
     "output_type": "execute_result"
    }
   ],
   "source": [
    "np.random.beta(0.5,0.5,10)"
   ]
  },
  {
   "cell_type": "code",
   "execution_count": 30,
   "metadata": {
    "collapsed": false
   },
   "outputs": [
    {
     "data": {
      "text/plain": [
       "array(['d', 'a', 'c', 'b', 'c', 'c', 'c', 'd', 'd', 'd', 'd', 'e', 'd',\n",
       "       'a', 'b', 'e', 'b', 'b', 'd', 'd', 'c', 'b', 'd', 'c', 'c', 'b',\n",
       "       'c', 'b', 'c', 'e', 'b', 'c', 'd', 'c', 'b', 'd', 'b', 'b', 'd',\n",
       "       'a', 'd', 'd', 'b', 'a', 'c', 'd', 'd', 'd', 'd', 'a', 'c', 'd',\n",
       "       'a', 'c', 'd', 'd', 'e', 'b', 'e', 'd', 'c', 'a', 'b', 'd', 'd',\n",
       "       'b', 'd', 'c', 'c', 'd', 'a', 'a', 'b', 'b', 'c', 'b', 'd', 'd',\n",
       "       'c', 'd', 'd', 'c', 'd', 'd', 'd', 'b', 'c', 'b', 'b', 'a', 'b',\n",
       "       'c', 'd', 'd', 'b', 'd', 'c', 'd', 'd', 'c'], \n",
       "      dtype='<U1')"
      ]
     },
     "execution_count": 30,
     "metadata": {},
     "output_type": "execute_result"
    }
   ],
   "source": [
    "# カテゴリカル分布\n",
    "prob = [0.1, 0.2,0.25,0.35,0.1]\n",
    "cate = [\"a\", \"b\", \"c\", \"d\", \"e\"]\n",
    "np.random.choice(cate, 100, p=prob)"
   ]
  },
  {
   "cell_type": "code",
   "execution_count": 31,
   "metadata": {
    "collapsed": false
   },
   "outputs": [
    {
     "data": {
      "text/plain": [
       "array([[0, 0, 2, 1, 1],\n",
       "       [0, 2, 0, 1, 1],\n",
       "       [0, 1, 0, 1, 2],\n",
       "       [0, 0, 1, 3, 0],\n",
       "       [1, 1, 0, 2, 0],\n",
       "       [1, 1, 2, 0, 0],\n",
       "       [1, 1, 0, 1, 1],\n",
       "       [0, 1, 1, 2, 0],\n",
       "       [0, 0, 1, 2, 1],\n",
       "       [0, 1, 1, 1, 1]])"
      ]
     },
     "execution_count": 31,
     "metadata": {},
     "output_type": "execute_result"
    }
   ],
   "source": [
    "#多項分布\n",
    "prob = [0.1, 0.2,0.25,0.35,0.1]\n",
    "N = 4\n",
    "size=10\n",
    "np.random.multinomial(N, prob, size)"
   ]
  },
  {
   "cell_type": "code",
   "execution_count": null,
   "metadata": {
    "collapsed": true
   },
   "outputs": [],
   "source": []
  },
  {
   "cell_type": "code",
   "execution_count": 32,
   "metadata": {
    "collapsed": false,
    "scrolled": true
   },
   "outputs": [
    {
     "data": {
      "text/plain": [
       "array([[  9.68966447e-01,   7.79374760e-05,   3.09556151e-02],\n",
       "       [  3.14011802e-01,   5.47331444e-05,   6.85933465e-01],\n",
       "       [  9.86227192e-01,   4.90611574e-05,   1.37237464e-02],\n",
       "       [  1.45481620e-03,   7.83216485e-02,   9.20223535e-01],\n",
       "       [  7.16916719e-01,   7.65404707e-04,   2.82317876e-01],\n",
       "       [  6.80726203e-03,   2.17916107e-04,   9.92974822e-01],\n",
       "       [  4.51479346e-02,   3.64353241e-08,   9.54852029e-01],\n",
       "       [  6.32746011e-01,   9.32321643e-04,   3.66321668e-01],\n",
       "       [  6.37481131e-01,   9.94988183e-02,   2.63020051e-01],\n",
       "       [  1.63027198e-01,   1.13901338e-07,   8.36972688e-01]])"
      ]
     },
     "execution_count": 32,
     "metadata": {},
     "output_type": "execute_result"
    }
   ],
   "source": [
    "np.random.dirichlet([0.5,0.1,0.4], 10)"
   ]
  },
  {
   "cell_type": "code",
   "execution_count": 34,
   "metadata": {
    "collapsed": false
   },
   "outputs": [
    {
     "data": {
      "text/plain": [
       "array([ 0.71548138,  0.37671878,  0.24228469,  0.11595729,  0.43509647,\n",
       "        0.28930861,  0.20070555,  0.92659773,  0.32471829,  0.62827196])"
      ]
     },
     "execution_count": 34,
     "metadata": {},
     "output_type": "execute_result"
    }
   ],
   "source": [
    "np.random.exponential(0.3, 10)"
   ]
  },
  {
   "cell_type": "code",
   "execution_count": 36,
   "metadata": {
    "collapsed": false
   },
   "outputs": [
    {
     "data": {
      "text/plain": [
       "array([0, 2, 3, 4, 2, 2, 1, 3, 1, 4, 0, 2, 3, 3, 2, 4, 3, 3, 2, 2, 2, 3, 2,\n",
       "       3, 4, 7, 2, 6, 4, 3, 5, 3, 2, 4, 4, 3, 5, 1, 3, 1, 4, 3, 3, 3, 2, 4,\n",
       "       1, 5, 2, 1, 4, 1, 2, 4, 3, 4, 4, 5, 3, 2, 3, 4, 4, 5, 3, 1, 3, 1, 4,\n",
       "       4, 2, 2, 2, 1, 6, 2, 5, 4, 3, 4, 3, 1, 5, 3, 4, 1, 3, 3, 5, 2, 3, 1,\n",
       "       7, 1, 9, 1, 4, 3, 2, 6])"
      ]
     },
     "execution_count": 36,
     "metadata": {},
     "output_type": "execute_result"
    }
   ],
   "source": [
    "np.random.poisson(3,100)"
   ]
  },
  {
   "cell_type": "code",
   "execution_count": 38,
   "metadata": {
    "collapsed": false
   },
   "outputs": [
    {
     "data": {
      "text/plain": [
       "array([  5.74707748,   2.08156406,   2.61881402,   1.13544079,\n",
       "         3.2269442 ,   1.28805544,  12.57429129,   4.45076475,\n",
       "         7.51387748,   0.57638225])"
      ]
     },
     "execution_count": 38,
     "metadata": {},
     "output_type": "execute_result"
    }
   ],
   "source": [
    "np.random.gamma(2,2,10)"
   ]
  },
  {
   "cell_type": "code",
   "execution_count": 40,
   "metadata": {
    "collapsed": false
   },
   "outputs": [
    {
     "data": {
      "text/plain": [
       "array([ 0.97076578,  1.15299836,  2.07318662,  1.01999974,  1.26600342,\n",
       "        0.81240659,  0.73496704,  1.16333102,  1.33578108,  0.42551124])"
      ]
     },
     "execution_count": 40,
     "metadata": {},
     "output_type": "execute_result"
    }
   ],
   "source": [
    "np.random.normal(1,0.5,10)"
   ]
  },
  {
   "cell_type": "code",
   "execution_count": 41,
   "metadata": {
    "collapsed": false
   },
   "outputs": [
    {
     "data": {
      "text/plain": [
       "array([ 1.97260099,  2.99978289,  1.64070117,  1.69277192,  3.17187776,\n",
       "        2.73511369,  1.62509098,  1.6876884 ,  1.02234319,  1.95881617])"
      ]
     },
     "execution_count": 41,
     "metadata": {},
     "output_type": "execute_result"
    }
   ],
   "source": [
    "np.random.lognormal(1,0.5,10)"
   ]
  },
  {
   "cell_type": "code",
   "execution_count": 43,
   "metadata": {
    "collapsed": false
   },
   "outputs": [
    {
     "data": {
      "text/plain": [
       "array([[  1.30567157,  -4.88745904],\n",
       "       [  2.5899637 ,  -3.88504087],\n",
       "       [ -0.16817383,   1.31479046],\n",
       "       [  0.83566622,   0.88987332],\n",
       "       [  0.51192523,  -7.1814548 ],\n",
       "       [  2.12176742, -12.33743332],\n",
       "       [  1.23649709,  15.50742837],\n",
       "       [ -1.77614656,  10.89252652],\n",
       "       [ -0.81177529,  -2.62564881],\n",
       "       [  0.36239452,  -0.1585729 ]])"
      ]
     },
     "execution_count": 43,
     "metadata": {},
     "output_type": "execute_result"
    }
   ],
   "source": [
    "mean = [0, 0]\n",
    "cov = [[1, 0], [0, 100]]\n",
    "np.random.multivariate_normal(mean, cov, 10)"
   ]
  },
  {
   "cell_type": "code",
   "execution_count": 48,
   "metadata": {
    "collapsed": false
   },
   "outputs": [
    {
     "data": {
      "text/plain": [
       "array([  1.61859904e-01,   7.64385513e-01,   1.11629834e+00,\n",
       "        -3.63182190e-01,  -1.02922848e+01,  -1.13707700e+00,\n",
       "         1.96019603e-02,  -4.65744337e-01,   1.05507239e+00,\n",
       "         2.44841698e-01,   4.66693726e+00,   1.21353557e+00,\n",
       "         8.20900185e+00,  -1.19434776e-01,   1.11565199e+00,\n",
       "         9.26283912e-01,   3.58692421e-01,  -8.95971274e-02,\n",
       "         1.13801962e+00,  -1.75765222e+00,  -5.26969764e-01,\n",
       "        -6.61936131e-01,   1.67481871e+00,  -2.36694295e-01,\n",
       "         1.26532855e+00,   3.33798350e+00,   3.68793473e+00,\n",
       "         2.11794963e+00,   3.93370967e-01,   3.23196313e+00,\n",
       "        -4.90361502e-01,  -7.68484620e-01,  -5.29469585e-01,\n",
       "        -9.66709950e-01,   9.82186820e-01,   2.97094890e+00,\n",
       "         8.22036454e+00,   4.82276627e+00,   4.34980166e-01,\n",
       "         3.10085054e+00,   7.37218068e-01,  -7.44315771e-02,\n",
       "         7.88376792e-01,   5.28807069e-02,  -2.46276741e-01,\n",
       "         9.16021024e-01,  -2.71454220e+00,  -1.37806449e+00,\n",
       "         3.37066456e+01,   3.56294117e+01])"
      ]
     },
     "execution_count": 48,
     "metadata": {},
     "output_type": "execute_result"
    }
   ],
   "source": [
    "# コーシー分布\n",
    "scipy.stats.cauchy.rvs(0,1,50)"
   ]
  },
  {
   "cell_type": "code",
   "execution_count": 50,
   "metadata": {
    "collapsed": false
   },
   "outputs": [
    {
     "data": {
      "text/plain": [
       "array([ 0.67654132,  0.51582198, -0.30433892, -0.81095969,  0.31005773,\n",
       "       -0.20769305, -1.26897976,  0.50256181,  0.34581683, -0.4988602 ])"
      ]
     },
     "execution_count": 50,
     "metadata": {},
     "output_type": "execute_result"
    }
   ],
   "source": [
    "free = 3\n",
    "mu = 0\n",
    "sigma = 0.5\n",
    "N = 10\n",
    "scipy.stats.t.rvs(free, mu, sigma, N)"
   ]
  },
  {
   "cell_type": "code",
   "execution_count": 52,
   "metadata": {
    "collapsed": false
   },
   "outputs": [
    {
     "data": {
      "text/plain": [
       "array([ 0.11812301, -0.26806534,  0.18156871,  0.72647222, -0.62929969,\n",
       "       -0.00406347, -0.37810486, -1.06820824, -0.82857248, -0.16001205])"
      ]
     },
     "execution_count": 52,
     "metadata": {},
     "output_type": "execute_result"
    }
   ],
   "source": [
    "# ラプラス\n",
    "np.random.laplace(0, 0.5, 10)"
   ]
  },
  {
   "cell_type": "markdown",
   "metadata": {},
   "source": [
    "##### (3)"
   ]
  },
  {
   "cell_type": "code",
   "execution_count": 53,
   "metadata": {
    "collapsed": true
   },
   "outputs": [],
   "source": [
    "y1 = np.random.normal(50, 20, 2000)\n",
    "y2 = np.random.normal(20, 15, 2000)"
   ]
  },
  {
   "cell_type": "code",
   "execution_count": 58,
   "metadata": {
    "collapsed": false
   },
   "outputs": [],
   "source": [
    "y = y1 - y2"
   ]
  },
  {
   "cell_type": "code",
   "execution_count": 61,
   "metadata": {
    "collapsed": false
   },
   "outputs": [
    {
     "data": {
      "text/plain": [
       "<matplotlib.axes._subplots.AxesSubplot at 0x10edf9400>"
      ]
     },
     "execution_count": 61,
     "metadata": {},
     "output_type": "execute_result"
    },
    {
     "data": {
      "image/png": "[encoded data removed]",
      "text/plain": [
       "<matplotlib.figure.Figure at 0x10ef05710>"
      ]
     },
     "metadata": {},
     "output_type": "display_data"
    }
   ],
   "source": [
    "sns.distplot(y, kde=False)"
   ]
  },
  {
   "cell_type": "markdown",
   "metadata": {},
   "source": [
    "###### (4)パス"
   ]
  }
 ],
 "metadata": {
  "kernelspec": {
   "display_name": "Python 3",
   "language": "python",
   "name": "python3"
  },
  "language_info": {
   "codemirror_mode": {
    "name": "ipython",
    "version": 3
   },
   "file_extension": ".py",
   "mimetype": "text/x-python",
   "name": "python",
   "nbconvert_exporter": "python",
   "pygments_lexer": "ipython3",
   "version": "3.5.0"
  }
 },
 "nbformat": 4,
 "nbformat_minor": 0
}
