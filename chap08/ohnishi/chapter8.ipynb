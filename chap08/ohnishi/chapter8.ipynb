{
 "cells": [
  {
   "cell_type": "code",
   "execution_count": 1,
   "metadata": {
    "collapsed": false
   },
   "outputs": [
    {
     "name": "stderr",
     "output_type": "stream",
     "text": [
      "/Users/yuki.ohnishi/.pyenv/versions/analysis/lib/python3.5/site-packages/Cython/Distutils/old_build_ext.py:30: UserWarning: Cython.Distutils.old_build_ext does not properly handle dependencies and is deprecated.\n",
      "  \"Cython.Distutils.old_build_ext does not properly handle dependencies \"\n"
     ]
    }
   ],
   "source": [
    "import pandas as pd\n",
    "import numpy as np\n",
    "import seaborn as sns\n",
    "import matplotlib.pyplot as plt\n",
    "import pystan\n",
    "%matplotlib inline"
   ]
  },
  {
   "cell_type": "code",
   "execution_count": 3,
   "metadata": {
    "collapsed": false
   },
   "outputs": [
    {
     "data": {
      "text/html": [
       "<div>\n",
       "<table border=\"1\" class=\"dataframe\">\n",
       "  <thead>\n",
       "    <tr style=\"text-align: right;\">\n",
       "      <th></th>\n",
       "      <th>X</th>\n",
       "      <th>Y</th>\n",
       "      <th>KID</th>\n",
       "    </tr>\n",
       "  </thead>\n",
       "  <tbody>\n",
       "    <tr>\n",
       "      <th>0</th>\n",
       "      <td>7</td>\n",
       "      <td>457</td>\n",
       "      <td>1</td>\n",
       "    </tr>\n",
       "    <tr>\n",
       "      <th>1</th>\n",
       "      <td>10</td>\n",
       "      <td>482</td>\n",
       "      <td>1</td>\n",
       "    </tr>\n",
       "    <tr>\n",
       "      <th>2</th>\n",
       "      <td>16</td>\n",
       "      <td>518</td>\n",
       "      <td>1</td>\n",
       "    </tr>\n",
       "    <tr>\n",
       "      <th>3</th>\n",
       "      <td>25</td>\n",
       "      <td>535</td>\n",
       "      <td>1</td>\n",
       "    </tr>\n",
       "    <tr>\n",
       "      <th>4</th>\n",
       "      <td>5</td>\n",
       "      <td>427</td>\n",
       "      <td>1</td>\n",
       "    </tr>\n",
       "  </tbody>\n",
       "</table>\n",
       "</div>"
      ],
      "text/plain": [
       "    X    Y  KID\n",
       "0   7  457    1\n",
       "1  10  482    1\n",
       "2  16  518    1\n",
       "3  25  535    1\n",
       "4   5  427    1"
      ]
     },
     "execution_count": 3,
     "metadata": {},
     "output_type": "execute_result"
    }
   ],
   "source": [
    "df1 = pd.read_csv(\"input/data-salary-2.txt\")\n",
    "df1.head()"
   ]
  },
  {
   "cell_type": "code",
   "execution_count": 13,
   "metadata": {
    "collapsed": false
   },
   "outputs": [
    {
     "data": {
      "text/plain": [
       "(0, 1000)"
      ]
     },
     "execution_count": 13,
     "metadata": {},
     "output_type": "execute_result"
    },
    {
     "data": {
      "image/png": "[encoded data removed]",
      "text/plain": [
       "<matplotlib.figure.Figure at 0x110b4b860>"
      ]
     },
     "metadata": {},
     "output_type": "display_data"
    }
   ],
   "source": [
    "sns.lmplot(x=\"X\", y=\"Y\", data=df1, col=\"KID\", hue=\"KID\",col_wrap=2,size=3)\n",
    "plt.xlim(0,30)\n",
    "plt.ylim(0,1000)"
   ]
  },
  {
   "cell_type": "code",
   "execution_count": 14,
   "metadata": {
    "collapsed": true
   },
   "outputs": [],
   "source": [
    "data1 = {\"N\":len(df1), \"X\":df1.X, \"Y\":df1.Y}\n",
    "fit1 = pystan.stan(file=\"stan/model8-1.stan\", data=data1)"
   ]
  },
  {
   "cell_type": "code",
   "execution_count": 15,
   "metadata": {
    "collapsed": false
   },
   "outputs": [
    {
     "data": {
      "text/plain": [
       "Inference for Stan model: anon_model_f0820d4f93d08370d6c332cf0dac93cf.\n",
       "4 chains, each with iter=2000; warmup=1000; thin=1; \n",
       "post-warmup draws per chain=1000, total post-warmup draws=4000.\n",
       "\n",
       "       mean se_mean     sd   2.5%    25%    50%    75%  97.5%  n_eff   Rhat\n",
       "a    376.39    0.67  23.72 327.07 361.27 376.61 391.52 423.07   1251    1.0\n",
       "b     11.05    0.04   1.37   8.37  10.18  11.04  11.91  13.86   1249    1.0\n",
       "s_Y   68.44    0.18   7.92  55.16  62.81  67.69  73.22  85.82   1929    1.0\n",
       "lp__ -184.0    0.03   1.23 -187.1 -184.5 -183.6 -183.1 -182.6   1393    1.0\n",
       "\n",
       "Samples were drawn using NUTS at Sun Nov 27 09:30:19 2016.\n",
       "For each parameter, n_eff is a crude measure of effective sample size,\n",
       "and Rhat is the potential scale reduction factor on split chains (at \n",
       "convergence, Rhat=1)."
      ]
     },
     "execution_count": 15,
     "metadata": {},
     "output_type": "execute_result"
    }
   ],
   "source": [
    "fit1"
   ]
  },
  {
   "cell_type": "markdown",
   "metadata": {},
   "source": [
    "#### 8.1.3 グループ毎に傾きを持つ場合"
   ]
  },
  {
   "cell_type": "code",
   "execution_count": 19,
   "metadata": {
    "collapsed": false
   },
   "outputs": [],
   "source": [
    "data2 = {\"N\":len(df1), \"K\":len(df1.KID.unique()),\"X\":df1.X, \"Y\":df1.Y, \"KID\":df1.KID}\n",
    "fit2 = pystan.stan(file=\"stan/model8-2.stan\", data=data2, seed=1234)"
   ]
  },
  {
   "cell_type": "code",
   "execution_count": 20,
   "metadata": {
    "collapsed": false
   },
   "outputs": [
    {
     "data": {
      "text/plain": [
       "Inference for Stan model: anon_model_13ec4bb7b067734d77f923d35ebd7999.\n",
       "4 chains, each with iter=2000; warmup=1000; thin=1; \n",
       "post-warmup draws per chain=1000, total post-warmup draws=4000.\n",
       "\n",
       "       mean se_mean     sd   2.5%    25%    50%    75%  97.5%  n_eff   Rhat\n",
       "a[0] 386.76    0.25  13.81 359.85 377.18  386.8 396.06 413.66   2983    1.0\n",
       "a[1] 329.21     0.3  16.56 296.62 318.41 328.85 339.98 361.66   3043    1.0\n",
       "a[2] 314.69    0.69  33.22 249.99 292.51 314.55 337.06 380.65   2315    1.0\n",
       "a[3] 750.55    2.96 158.51 431.68 646.44 748.45 855.36 1071.6   2875    1.0\n",
       "b[0]   7.54    0.02   0.85   5.83   6.97   7.54    8.1    9.2   2991    1.0\n",
       "b[1]  19.82    0.02   1.22  17.46  18.99  19.83  20.66  22.22   3041    1.0\n",
       "b[2]  12.43    0.03   1.64   9.22  11.35  12.45  13.49  15.64   2288    1.0\n",
       "b[3]  -1.02    0.12   6.39 -13.96  -5.26  -0.96   3.22  11.82   2902    1.0\n",
       "s_Y   27.17    0.06   3.49  21.24  24.75  26.87  29.33  34.76   2951    1.0\n",
       "lp__ -147.9    0.07   2.31 -153.4 -149.3 -147.6 -146.3 -144.5   1245    1.0\n",
       "\n",
       "Samples were drawn using NUTS at Sun Nov 27 09:39:21 2016.\n",
       "For each parameter, n_eff is a crude measure of effective sample size,\n",
       "and Rhat is the potential scale reduction factor on split chains (at \n",
       "convergence, Rhat=1)."
      ]
     },
     "execution_count": 20,
     "metadata": {},
     "output_type": "execute_result"
    }
   ],
   "source": [
    "fit2"
   ]
  },
  {
   "cell_type": "markdown",
   "metadata": {},
   "source": [
    "会社毎の直線の傾きと切片a,bはわかったが、a,bについての仮定がないため、a,bの会社間の差がどれほどあるか推定できない。そのため、このデータに含まれていない会社について、切片傾きがいくらになりそうかと言う問いに答えられない。\n",
    "また、b[3]について、傾きがマイナスとなり、過学習している。"
   ]
  },
  {
   "cell_type": "markdown",
   "metadata": {},
   "source": [
    "#### 8.1.4 階層モデル"
   ]
  },
  {
   "cell_type": "code",
   "execution_count": 23,
   "metadata": {
    "collapsed": false
   },
   "outputs": [],
   "source": [
    "data3 = {\"N\":len(df1), \"K\":len(df1.KID.unique()),\"X\":df1.X, \"Y\":df1.Y, \"KID\":df1.KID}\n",
    "fit3 = pystan.stan(file=\"stan/model8-3.stan\", data=data3, seed=1234)"
   ]
  },
  {
   "cell_type": "code",
   "execution_count": 24,
   "metadata": {
    "collapsed": false
   },
   "outputs": [
    {
     "data": {
      "text/plain": [
       "Inference for Stan model: anon_model_7d1fed9927952e90449cc3742d07c8a9.\n",
       "4 chains, each with iter=2000; warmup=1000; thin=1; \n",
       "post-warmup draws per chain=1000, total post-warmup draws=4000.\n",
       "\n",
       "        mean se_mean     sd   2.5%    25%    50%    75%  97.5%  n_eff   Rhat\n",
       "a0    382.55    9.91 145.32 137.85 337.64 367.96 411.85 748.89    215   1.01\n",
       "ak[0]   0.55    9.89 145.06 -360.2 -27.61  11.57  44.16 246.82    215   1.01\n",
       "ak[1] -47.41    9.94 146.38 -426.9 -78.51  -30.7   0.24 193.98    217   1.01\n",
       "ak[2]  -59.2    9.88 147.56 -433.4 -96.32 -39.95  -3.89 181.98    223   1.01\n",
       "ak[3] 102.24    8.98 172.44 -124.9   8.67  66.07 160.32 514.44    369   1.01\n",
       "b0     12.59    0.32   8.73  -0.88   9.63  12.61  15.42   26.9    752    1.0\n",
       "bk[0]  -4.83    0.32   8.74 -19.24  -7.59  -4.65  -1.86   8.43    753    1.0\n",
       "bk[1]   6.79    0.32   8.77  -7.15   3.74   6.69   9.85  20.71    757    1.0\n",
       "bk[2]  -0.59    0.32   8.78 -14.43  -3.55  -0.53   2.52  13.48    765    1.0\n",
       "bk[3]  -2.94    0.42   9.84 -22.27  -6.28  -1.72   1.77   11.0    554   1.01\n",
       "s_Y    28.56     0.1   3.75  22.21  25.91  28.28  30.78  37.32   1431    1.0\n",
       "s_a   176.27   15.25 262.79  12.07  50.63  98.81 202.01 849.48    297   1.01\n",
       "s_b    11.82    0.78  15.71   3.12   5.57   8.12  12.84   39.9    406    1.0\n",
       "a[0]   383.1    0.29  15.25 352.65 373.21 383.14 393.14 412.88   2833    1.0\n",
       "a[1]  335.14    0.28  17.63 300.47  323.6 335.25 346.77 369.49   4000    1.0\n",
       "a[2]  323.35    0.53  33.72 255.74 300.91  324.2 346.77 386.38   4000    1.0\n",
       "a[3]  484.79    6.39 137.56 307.71  380.8 448.58 561.13 828.48    463    1.0\n",
       "b[0]    7.76    0.01   0.94   5.92   7.14   7.74   8.37   9.63   4000    1.0\n",
       "b[1]   19.37    0.02   1.32   16.8  18.52  19.37  20.27  21.97   4000    1.0\n",
       "b[2]    12.0    0.03   1.66   8.81  10.88  11.93  13.12  15.26   4000    1.0\n",
       "b[3]    9.65    0.26   5.54  -4.18   6.59  11.08  13.83  16.85    466    1.0\n",
       "lp__  -173.1     0.2   3.61 -181.3 -175.1 -172.6 -170.6 -167.3    337    1.0\n",
       "\n",
       "Samples were drawn using NUTS at Sun Nov 27 09:55:49 2016.\n",
       "For each parameter, n_eff is a crude measure of effective sample size,\n",
       "and Rhat is the potential scale reduction factor on split chains (at \n",
       "convergence, Rhat=1)."
      ]
     },
     "execution_count": 24,
     "metadata": {},
     "output_type": "execute_result"
    }
   ],
   "source": [
    "fit3"
   ]
  },
  {
   "cell_type": "markdown",
   "metadata": {},
   "source": [
    "#### 8.1.5 モデルの比較"
   ]
  },
  {
   "cell_type": "code",
   "execution_count": 71,
   "metadata": {
    "collapsed": true
   },
   "outputs": [],
   "source": [
    "ms1 = fit1.extract()\n",
    "ms2 = fit2.extract()\n",
    "ms3 = fit3.extract()"
   ]
  },
  {
   "cell_type": "code",
   "execution_count": 78,
   "metadata": {
    "collapsed": true
   },
   "outputs": [],
   "source": [
    "a1 = ms1[\"a\"].T\n",
    "a2 = ms2[\"a\"].T\n",
    "a3 = ms3[\"a\"].T\n",
    "b1 = ms1[\"b\"].T\n",
    "b2 = ms2[\"b\"].T\n",
    "b3 = ms3[\"b\"].T\n",
    "a1_med = np.percentile(a1,[50])\n",
    "b1_med = np.percentile(b1,[50])\n",
    "df_parama2 = pd.DataFrame([np.r_[k+1, np.percentile(x,[2.5, 25, 50, 75, 97.5])] for k, x in enumerate(a2)] ,columns=[\"KID\", \"p2.5\", \"p25\", \"p50\", \"p75\", \"p97.5\"])\n",
    "df_parama3 = pd.DataFrame([np.r_[k+1, np.percentile(x,[2.5, 25, 50, 75, 97.5])] for k, x in enumerate(a3)] ,columns=[\"KID\", \"p2.5\", \"p25\", \"p50\", \"p75\", \"p97.5\"])\n",
    "df_paramb2 = pd.DataFrame([np.r_[k+1, np.percentile(x,[2.5, 25, 50, 75, 97.5])] for k, x in enumerate(b2)] ,columns=[\"KID\", \"p2.5\", \"p25\", \"p50\", \"p75\", \"p97.5\"])\n",
    "df_paramb3 = pd.DataFrame([np.r_[k+1, np.percentile(x,[2.5, 25, 50, 75, 97.5])] for k, x in enumerate(b3)] ,columns=[\"KID\", \"p2.5\", \"p25\", \"p50\", \"p75\", \"p97.5\"])"
   ]
  },
  {
   "cell_type": "code",
   "execution_count": 79,
   "metadata": {
    "collapsed": false
   },
   "outputs": [
    {
     "data": {
      "text/plain": [
       "(0.9, 4.1)"
      ]
     },
     "execution_count": 79,
     "metadata": {},
     "output_type": "execute_result"
    },
    {
     "data": {
      "image/png": "[encoded data removed]",
      "text/plain": [
       "<matplotlib.figure.Figure at 0x110adc4e0>"
      ]
     },
     "metadata": {},
     "output_type": "display_data"
    }
   ],
   "source": [
    "xlim = (0.9,4.1)\n",
    "palette = sns.color_palette()\n",
    "fig = plt.figure(figsize=(6,8))\n",
    "ax = fig.add_subplot(1,1,1)\n",
    "ax.errorbar(df_parama2.KID, df_parama2.p50, yerr=[df_parama2.p50 - df_parama2[\"p2.5\"], df_parama2[\"p97.5\"] - df_parama2.p50],\n",
    "    fmt='o', ecolor='black', ms=10, mfc=palette[0], alpha=0.5, marker='o')\n",
    "ax.errorbar(df_parama3.KID, df_parama3.p50, yerr=[df_parama3.p50 - df_parama3[\"p2.5\"], df_parama3[\"p97.5\"] - df_parama3.p50],\n",
    "    fmt='o', ecolor='gray', ms=10, mfc=palette[1], alpha=0.8, marker='^')\n",
    "ax.plot(xlim , (a1_med,a1_med))\n",
    "ax.set_xlim(xlim)"
   ]
  },
  {
   "cell_type": "code",
   "execution_count": 104,
   "metadata": {
    "collapsed": false
   },
   "outputs": [
    {
     "data": {
      "image/png": "[encoded data removed]",
      "text/plain": [
       "<matplotlib.figure.Figure at 0x10f9d15f8>"
      ]
     },
     "metadata": {},
     "output_type": "display_data"
    }
   ],
   "source": [
    "xlim = (0,30)\n",
    "fig = plt.figure(figsize=(8,8))\n",
    "for k in range(4):\n",
    "    idx = k + 1\n",
    "    if ax == None:\n",
    "        ax = fig.add_subplot(2, 2, idx)\n",
    "    else:\n",
    "        ax = fig.add_subplot(2, 2, idx, sharey=ax)\n",
    "    d1 = df1[df1.KID == idx]\n",
    "    da2 = df_parama2[df_parama2.KID == idx]\n",
    "    da3 = df_parama3[df_parama3.KID == idx]\n",
    "    db2 = df_paramb2[df_paramb2.KID == idx]\n",
    "    db3 = df_paramb3[df_paramb3.KID == idx]\n",
    "    ax.scatter(d1.X, d1.Y, alpha=0.8)\n",
    "    ax.plot(xlim,(xlim[0] * b1_med +a1_med, xlim[1] * b1_med +a1_med), color=\"gray\")\n",
    "    ax.plot(xlim, (xlim[0] * db2.p50[k] +da2.p50[k], xlim[1] * db2.p50[k] +da2.p50[k]))\n",
    "    ax.plot(xlim, (xlim[0] * db3.p50[k] +da3.p50[k], xlim[1] * db3.p50[k] +da3.p50[k]), \"k--\")"
   ]
  },
  {
   "cell_type": "markdown",
   "metadata": {},
   "source": [
    "#### 8.1.6 階層モデルの等価な表現"
   ]
  },
  {
   "cell_type": "code",
   "execution_count": 106,
   "metadata": {
    "collapsed": false
   },
   "outputs": [],
   "source": [
    "data4 = {\"N\":len(df1), \"K\":len(df1.KID.unique()),\"X\":df1.X, \"Y\":df1.Y, \"KID\":df1.KID}\n",
    "fit4 = pystan.stan(file=\"stan/model8-4.stan\", data=data4, seed=1234)"
   ]
  },
  {
   "cell_type": "code",
   "execution_count": 107,
   "metadata": {
    "collapsed": false
   },
   "outputs": [
    {
     "data": {
      "text/plain": [
       "Inference for Stan model: anon_model_92a2d3b6fb2ec0c10dc689b35f85d9ee.\n",
       "4 chains, each with iter=2000; warmup=1000; thin=1; \n",
       "post-warmup draws per chain=1000, total post-warmup draws=4000.\n",
       "\n",
       "       mean se_mean     sd   2.5%    25%    50%    75%  97.5%  n_eff   Rhat\n",
       "a0   384.62    2.59  108.6  184.3 335.83 369.28 421.17  658.0   1761    1.0\n",
       "a[0] 384.23    0.34  14.76 353.31 374.78 384.47 393.96 413.37   1859    1.0\n",
       "a[1] 333.58     0.4  16.68 300.97 322.18 333.68 344.89 365.85   1771   1.01\n",
       "a[2] 323.69    0.79  32.66 258.41  302.5 324.53 346.18 386.06   1719    1.0\n",
       "a[3] 489.62    4.63 132.62 306.69 384.74 459.83  574.0 794.16    820    1.0\n",
       "b0    12.06    0.36   9.05  -7.11   9.19  12.25  15.29  29.93    629   1.01\n",
       "b[0]   7.69    0.02    0.9   5.89    7.1   7.67   8.27   9.54   1941    1.0\n",
       "b[1]   19.5    0.03   1.24   17.1  18.66  19.52  20.33  21.91   1701    1.0\n",
       "b[2]  11.98    0.04    1.6   8.87  10.88  11.93  13.04  15.21   1778    1.0\n",
       "b[3]   9.45    0.19   5.33  -2.66   6.08  10.59  13.58  16.92    816    1.0\n",
       "s_Y   28.25    0.08   3.73  21.93  25.58  27.98   30.5  36.58   2165    1.0\n",
       "s_a  164.01    5.99 204.19  20.59  55.14 106.07 200.96 623.01   1163    1.0\n",
       "s_b   12.56    0.56  14.27   3.31   5.77   8.43  13.85  47.21    654    1.0\n",
       "lp__ -173.1    0.11   3.29 -180.5 -175.2 -172.7 -170.7 -167.9    833   1.01\n",
       "\n",
       "Samples were drawn using NUTS at Sun Nov 27 11:38:09 2016.\n",
       "For each parameter, n_eff is a crude measure of effective sample size,\n",
       "and Rhat is the potential scale reduction factor on split chains (at \n",
       "convergence, Rhat=1)."
      ]
     },
     "execution_count": 107,
     "metadata": {},
     "output_type": "execute_result"
    }
   ],
   "source": [
    "fit4"
   ]
  },
  {
   "cell_type": "markdown",
   "metadata": {},
   "source": [
    "### 8.2 複数の階層を持つ階層モデル"
   ]
  },
  {
   "cell_type": "code",
   "execution_count": 108,
   "metadata": {
    "collapsed": true
   },
   "outputs": [],
   "source": [
    "df2 = pd.read_csv(\"input/data-salary-3.txt\")"
   ]
  },
  {
   "cell_type": "code",
   "execution_count": 109,
   "metadata": {
    "collapsed": false
   },
   "outputs": [
    {
     "data": {
      "text/html": [
       "<div>\n",
       "<table border=\"1\" class=\"dataframe\">\n",
       "  <thead>\n",
       "    <tr style=\"text-align: right;\">\n",
       "      <th></th>\n",
       "      <th>X</th>\n",
       "      <th>Y</th>\n",
       "      <th>KID</th>\n",
       "      <th>GID</th>\n",
       "    </tr>\n",
       "  </thead>\n",
       "  <tbody>\n",
       "    <tr>\n",
       "      <th>0</th>\n",
       "      <td>7</td>\n",
       "      <td>457</td>\n",
       "      <td>1</td>\n",
       "      <td>1</td>\n",
       "    </tr>\n",
       "    <tr>\n",
       "      <th>1</th>\n",
       "      <td>10</td>\n",
       "      <td>482</td>\n",
       "      <td>1</td>\n",
       "      <td>1</td>\n",
       "    </tr>\n",
       "    <tr>\n",
       "      <th>2</th>\n",
       "      <td>16</td>\n",
       "      <td>518</td>\n",
       "      <td>1</td>\n",
       "      <td>1</td>\n",
       "    </tr>\n",
       "    <tr>\n",
       "      <th>3</th>\n",
       "      <td>25</td>\n",
       "      <td>535</td>\n",
       "      <td>1</td>\n",
       "      <td>1</td>\n",
       "    </tr>\n",
       "    <tr>\n",
       "      <th>4</th>\n",
       "      <td>5</td>\n",
       "      <td>427</td>\n",
       "      <td>1</td>\n",
       "      <td>1</td>\n",
       "    </tr>\n",
       "  </tbody>\n",
       "</table>\n",
       "</div>"
      ],
      "text/plain": [
       "    X    Y  KID  GID\n",
       "0   7  457    1    1\n",
       "1  10  482    1    1\n",
       "2  16  518    1    1\n",
       "3  25  535    1    1\n",
       "4   5  427    1    1"
      ]
     },
     "execution_count": 109,
     "metadata": {},
     "output_type": "execute_result"
    }
   ],
   "source": [
    "df2.head()"
   ]
  },
  {
   "cell_type": "code",
   "execution_count": 113,
   "metadata": {
    "collapsed": false
   },
   "outputs": [
    {
     "data": {
      "text/html": [
       "<div>\n",
       "<table border=\"1\" class=\"dataframe\">\n",
       "  <thead>\n",
       "    <tr style=\"text-align: right;\">\n",
       "      <th></th>\n",
       "      <th>X</th>\n",
       "      <th>Y</th>\n",
       "      <th>KID</th>\n",
       "      <th>GID</th>\n",
       "    </tr>\n",
       "  </thead>\n",
       "  <tbody>\n",
       "    <tr>\n",
       "      <th>count</th>\n",
       "      <td>300.0000</td>\n",
       "      <td>300.000000</td>\n",
       "      <td>300.000000</td>\n",
       "      <td>300.000000</td>\n",
       "    </tr>\n",
       "    <tr>\n",
       "      <th>mean</th>\n",
       "      <td>15.1900</td>\n",
       "      <td>692.250000</td>\n",
       "      <td>13.996667</td>\n",
       "      <td>2.033333</td>\n",
       "    </tr>\n",
       "    <tr>\n",
       "      <th>std</th>\n",
       "      <td>7.8306</td>\n",
       "      <td>224.188244</td>\n",
       "      <td>8.134940</td>\n",
       "      <td>0.547621</td>\n",
       "    </tr>\n",
       "    <tr>\n",
       "      <th>min</th>\n",
       "      <td>0.0000</td>\n",
       "      <td>161.000000</td>\n",
       "      <td>1.000000</td>\n",
       "      <td>1.000000</td>\n",
       "    </tr>\n",
       "    <tr>\n",
       "      <th>25%</th>\n",
       "      <td>9.0000</td>\n",
       "      <td>547.500000</td>\n",
       "      <td>7.000000</td>\n",
       "      <td>2.000000</td>\n",
       "    </tr>\n",
       "    <tr>\n",
       "      <th>50%</th>\n",
       "      <td>14.0000</td>\n",
       "      <td>670.000000</td>\n",
       "      <td>14.000000</td>\n",
       "      <td>2.000000</td>\n",
       "    </tr>\n",
       "    <tr>\n",
       "      <th>75%</th>\n",
       "      <td>21.0000</td>\n",
       "      <td>807.500000</td>\n",
       "      <td>20.250000</td>\n",
       "      <td>2.000000</td>\n",
       "    </tr>\n",
       "    <tr>\n",
       "      <th>max</th>\n",
       "      <td>34.0000</td>\n",
       "      <td>1521.000000</td>\n",
       "      <td>30.000000</td>\n",
       "      <td>3.000000</td>\n",
       "    </tr>\n",
       "  </tbody>\n",
       "</table>\n",
       "</div>"
      ],
      "text/plain": [
       "              X            Y         KID         GID\n",
       "count  300.0000   300.000000  300.000000  300.000000\n",
       "mean    15.1900   692.250000   13.996667    2.033333\n",
       "std      7.8306   224.188244    8.134940    0.547621\n",
       "min      0.0000   161.000000    1.000000    1.000000\n",
       "25%      9.0000   547.500000    7.000000    2.000000\n",
       "50%     14.0000   670.000000   14.000000    2.000000\n",
       "75%     21.0000   807.500000   20.250000    2.000000\n",
       "max     34.0000  1521.000000   30.000000    3.000000"
      ]
     },
     "execution_count": 113,
     "metadata": {},
     "output_type": "execute_result"
    }
   ],
   "source": [
    "df2.describe()"
   ]
  },
  {
   "cell_type": "code",
   "execution_count": 112,
   "metadata": {
    "collapsed": false
   },
   "outputs": [
    {
     "data": {
      "text/plain": [
       "<seaborn.axisgrid.FacetGrid at 0x11185ee48>"
      ]
     },
     "execution_count": 112,
     "metadata": {},
     "output_type": "execute_result"
    },
    {
     "data": {
      "image/png": "[encoded data removed]",
      "text/plain": [
       "<matplotlib.figure.Figure at 0x111634978>"
      ]
     },
     "metadata": {},
     "output_type": "display_data"
    }
   ],
   "source": [
    "sns.lmplot(x=\"X\",y=\"Y\",data=df2,hue=\"GID\")"
   ]
  },
  {
   "cell_type": "code",
   "execution_count": 128,
   "metadata": {
    "collapsed": true
   },
   "outputs": [],
   "source": [
    "K2G = df2[[\"KID\", \"GID\"]].drop_duplicates().GID.values\n",
    "data5 = {\"N\":len(df2), \"G\":len(df2.GID.unique()),\"K\":len(df2.KID.unique()),\"X\":df2.X, \"Y\":df2.Y, \"KID\":df2.KID, \"K2G\":K2G}\n",
    "fit5 = pystan.stan(file=\"stan/model8-5.stan\", data=data5, seed=1234)"
   ]
  },
  {
   "cell_type": "code",
   "execution_count": 130,
   "metadata": {
    "collapsed": false
   },
   "outputs": [
    {
     "data": {
      "text/plain": [
       "Inference for Stan model: anon_model_5d549c40408b503f686edb549cb2e4bc.\n",
       "4 chains, each with iter=2000; warmup=1000; thin=1; \n",
       "post-warmup draws per chain=1000, total post-warmup draws=4000.\n",
       "\n",
       "        mean se_mean     sd   2.5%    25%    50%    75%  97.5%  n_eff   Rhat\n",
       "a0    416.86    28.1 654.29 -530.8 312.62 395.31 492.12 1755.1    542    1.0\n",
       "a[0]  365.17    0.92  26.81 310.35 347.72  366.2 382.49 415.44    853    1.0\n",
       "a[1]  357.61    1.05  28.38 300.33 338.52 358.12 378.32 411.82    732   1.01\n",
       "a[2]  352.01    1.34   35.7 277.34 329.23 353.63  378.2 418.31    713   1.01\n",
       "a[3]  364.47    1.01  39.01 286.64 339.87 364.73 386.04 447.57   1493    1.0\n",
       "a[4]  295.53    1.15  24.79 242.75 280.45 296.37 311.62 343.55    468   1.01\n",
       "a[5]  327.48    1.41  34.49  273.5 303.87 320.27  346.6 407.86    596   1.01\n",
       "a[6]  309.39    0.56  19.37 272.98  296.4 309.04 320.94  350.2   1199    1.0\n",
       "a[7]  301.73    0.65  28.47 243.95  284.7 302.03 318.17 362.64   1923    1.0\n",
       "a[8]  288.06     1.8  26.94 229.01 271.95 290.33 306.57 334.52    223   1.02\n",
       "a[9]  275.09    3.08  23.66 228.51 259.04 276.23  291.4 318.69     59   1.05\n",
       "a[10] 300.42    0.69  30.37  236.3 283.26 301.06 317.98 365.22   1929    1.0\n",
       "a[11] 296.23    0.69  25.37 244.62 280.34  296.8 313.21 346.56   1353   1.01\n",
       "a[12] 321.67    1.06  27.54  275.3 302.09  318.3 338.47 383.91    676    1.0\n",
       "a[13]  290.8    1.54  21.35 244.94  277.2 291.69 305.62 328.54    191   1.02\n",
       "a[14] 297.04    0.65  24.92 244.95 282.36 298.02 314.46 345.09   1450   1.01\n",
       "a[15] 293.48    1.18  28.85 228.13 277.91  295.5 312.53  345.3    602   1.01\n",
       "a[16] 297.31    0.68   27.3 238.78 281.51  298.3 315.87 351.62   1614   1.01\n",
       "a[17] 305.49    0.65  27.93 250.97 287.68 304.75 320.08  365.6   1840    1.0\n",
       "a[18] 278.67    2.87  33.76  198.3 259.62 283.58  302.2 329.98    138   1.02\n",
       "a[19] 307.63    0.65  25.65 260.98 291.09 306.42 320.99 364.57   1554    1.0\n",
       "a[20] 292.13    1.18  24.78 237.27 276.97 293.82 308.89 337.67    444   1.01\n",
       "a[21] 324.49    1.18  27.11 279.11 305.02 320.35 341.99 384.12    525   1.01\n",
       "a[22] 496.08    1.28  36.17 426.21 473.52 493.63 520.03 569.05    801    1.0\n",
       "a[23] 501.63    1.68  33.84 436.55 477.95 500.13 523.44 570.93    405   1.01\n",
       "a[24] 503.11    2.07  34.72 439.36 477.69 501.49 525.71 573.93    280   1.01\n",
       "a[25] 495.27    1.22  34.98 429.37  473.1 493.51 519.21 565.59    818    1.0\n",
       "a[26] 498.82    1.37  33.35 436.04 476.93  496.8 521.42  565.9    595   1.01\n",
       "a[27] 496.01    1.26  37.07 421.35 473.79 495.49 520.24  569.3    871    1.0\n",
       "a[28] 493.18    1.17  33.54  426.9 472.59 491.77 515.14 560.27    827    1.0\n",
       "a[29] 493.41    1.31  37.88 415.61 470.64 491.66 517.94 570.19    842    1.0\n",
       "a1[0] 359.63    0.93  29.42 299.15 340.73 360.32  380.5 415.45    992   1.01\n",
       "a1[1]  300.3     0.9  14.71 270.17 290.54 300.74 310.61 327.86    266   1.02\n",
       "a1[2] 496.42    1.22  29.12 440.37 477.25  495.1  516.4  554.7    574   1.01\n",
       "b0     18.25    3.26  67.92 -47.94  11.27  17.71  24.84 104.28    435    1.0\n",
       "b[0]    8.94    0.05   1.71   5.47   7.84   8.85  10.07  12.37   1352    1.0\n",
       "b[1]   17.64    0.05   2.21  13.31  16.19  17.78  19.05   22.1   1823    1.0\n",
       "b[2]   10.71    0.13   1.99   7.14   9.31  10.65  12.08  14.75    228   1.02\n",
       "b[3]   14.41    0.05   2.02  10.42   13.1   14.4  15.76  18.35   1825    1.0\n",
       "b[4]   32.93    0.12   2.09  29.12  31.47  32.87   34.4  37.01    328   1.01\n",
       "b[5]   35.93    0.16   3.04  29.51  33.74   36.1  38.03  41.45    365   1.01\n",
       "b[6]    30.8    0.05   1.26  28.44  29.89  30.76  31.67  33.35    573   1.01\n",
       "b[7]   25.15    0.03   1.66  21.71  24.17   25.1  26.22   28.4   2293    1.0\n",
       "b[8]   22.42    0.03   1.47  19.71  21.45  22.31  23.35   25.5   2013    1.0\n",
       "b[9]    28.9    0.25   1.98  25.12  27.62  28.91  30.22   32.7     65   1.04\n",
       "b[10]  32.35    0.04   1.85  28.62  31.26  32.29  33.57  36.06   2248    1.0\n",
       "b[11]   34.2    0.03   1.34  31.52  33.31  34.23  35.01  36.83   1969    1.0\n",
       "b[12]  28.69    0.06    2.2   24.1  27.38  28.66  30.18  32.83   1184    1.0\n",
       "b[13]  23.92    0.12   2.06  20.13  22.39  23.86  25.27  28.19    303   1.01\n",
       "b[14]  33.69    0.05   2.68  28.57  31.89   33.7  35.37   39.1   2388    1.0\n",
       "b[15]  19.44    0.03   1.37  16.86  18.56  19.37  20.28  22.43   1880    1.0\n",
       "b[16]  28.19    0.03    1.4  25.49  27.28  28.07  29.08  31.04   2667    1.0\n",
       "b[17]  28.72    0.05   2.31  24.02  27.26   28.7  30.26   33.2   1773    1.0\n",
       "b[18]  20.79    0.08   2.32  16.55   19.3  20.54   22.2   25.8    905    1.0\n",
       "b[19]  33.91    0.04   1.52  30.89  32.91  33.92  34.94  36.84   1528    1.0\n",
       "b[20]   26.4    0.12   2.46  21.89  24.49  26.34  28.07   31.4    387   1.01\n",
       "b[21]   28.2    0.08   1.36  25.33   27.3  28.33  29.16  30.61    324   1.01\n",
       "b[22]  13.12    0.05   1.94   9.25  11.91  13.07  14.39  16.89   1304    1.0\n",
       "b[23]  13.83    0.07   2.07   9.74  12.56   13.8  15.21  17.88    969   1.01\n",
       "b[24]  13.52    0.08   2.38   8.62  11.96  13.64  15.03  18.14    959    1.0\n",
       "b[25]  12.13    0.12    3.3    5.4   9.83  12.28  14.51  18.28    724   1.01\n",
       "b[26]  12.71     0.1   3.19   6.43  10.53  12.68  14.87  18.92    963   1.01\n",
       "b[27]  11.89    0.09   2.74   6.28   10.1  11.95  13.61  17.19    940    1.0\n",
       "b[28]  11.72    0.11   3.92   3.62    9.3  11.94  14.25  19.27   1225    1.0\n",
       "b[29]  11.58    0.06   2.02    7.5  10.27  11.66  12.87  15.54    990    1.0\n",
       "b1[0]   13.0    0.21   2.83   7.96  11.02  13.09  14.98  18.45    180   1.02\n",
       "b1[1]  28.56    0.03   1.37  25.82  27.69  28.61   29.4  31.26   1550    1.0\n",
       "b1[2]  12.67    0.09   2.45   7.76  11.08  12.78  14.18  17.45    708    1.0\n",
       "s_Y    65.27    0.04   2.82  60.02  63.38  65.19  67.02  71.15   4000    1.0\n",
       "s_a    24.91    1.98  14.11   0.76  15.03  24.88  34.09  53.73     51   1.04\n",
       "s_b     4.73    0.02   0.79   3.37    4.2   4.62    5.2   6.46   1404    1.0\n",
       "s_ag  680.64  109.22 2208.8   61.9 127.78 233.56 554.85 4310.2    409   1.01\n",
       "s_bg   48.39    5.67 173.65   5.51  11.33  18.74  35.48 264.17    938    1.0\n",
       "lp__   -1576    6.62  27.29  -1606  -1592  -1583  -1571  -1489     17   1.17\n",
       "\n",
       "Samples were drawn using NUTS at Sun Nov 27 17:37:13 2016.\n",
       "For each parameter, n_eff is a crude measure of effective sample size,\n",
       "and Rhat is the potential scale reduction factor on split chains (at \n",
       "convergence, Rhat=1)."
      ]
     },
     "execution_count": 130,
     "metadata": {},
     "output_type": "execute_result"
    }
   ],
   "source": [
    "fit5"
   ]
  },
  {
   "cell_type": "code",
   "execution_count": 134,
   "metadata": {
    "collapsed": false
   },
   "outputs": [],
   "source": [
    "data6 = {\"N\":len(df2), \"G\":len(df2.GID.unique()),\"K\":len(df2.KID.unique()),\"X\":df2.X, \"Y\":df2.Y, \"KID\":df2.KID, \"K2G\":K2G, \"GID\":df2.GID}\n",
    "fit6 = pystan.stan(file=\"stan/model8-6.stan\", data=data6, seed=1234)"
   ]
  },
  {
   "cell_type": "code",
   "execution_count": 135,
   "metadata": {
    "collapsed": false
   },
   "outputs": [
    {
     "data": {
      "text/plain": [
       "Inference for Stan model: anon_model_fdf160b9aa8fb1ea692feb9c6e421d40.\n",
       "4 chains, each with iter=2000; warmup=1000; thin=1; \n",
       "post-warmup draws per chain=1000, total post-warmup draws=4000.\n",
       "\n",
       "         mean se_mean     sd   2.5%    25%    50%    75%  97.5%  n_eff   Rhat\n",
       "a0     392.94    5.38 205.67  -41.9 314.87 390.75 467.37 878.55   1463    1.0\n",
       "a[0]    383.0    0.28  15.11  353.1  372.6 383.28 393.45 411.45   2872    1.0\n",
       "a[1]   334.89    0.34  17.75 299.72 323.17 334.82 346.27 370.12   2785    1.0\n",
       "a[2]   325.04    0.67  32.71 257.37 304.45 325.72  347.0 386.19   2378    1.0\n",
       "a[3]   467.38    4.03  123.8 305.59 374.51 435.47 538.01 767.84    942    1.0\n",
       "a[4]   293.37    0.57  30.21 229.31 274.62 294.02 312.06  354.2   2769    1.0\n",
       "a[5]   332.56    1.48  43.57 265.19 301.14 325.75 358.41 436.39    862    1.0\n",
       "a[6]   309.84    0.65  24.43 265.57 292.77 308.78 325.83 360.36   1407    1.0\n",
       "a[7]   301.42    0.81   36.3 231.35 279.58 300.66 322.39 379.04   2021    1.0\n",
       "a[8]   284.82    0.72  33.12 209.64  266.4 287.28 305.39 345.78   2129    1.0\n",
       "a[9]   271.31    0.79  24.59 218.13 255.33 272.94 288.66 313.75    957   1.01\n",
       "a[10]  299.33    0.88   39.0 219.75 277.89 298.91 320.71 380.67   1965    1.0\n",
       "a[11]  295.34    0.49  31.02 232.72 276.43 295.36 314.51 356.43   4000    1.0\n",
       "a[12]  323.29    1.06  34.37 265.11 299.29 319.04 343.37 401.73   1059    1.0\n",
       "a[13]  288.14    0.55  24.74 237.11 272.76 288.61  304.0 335.06   2006    1.0\n",
       "a[14]  295.13    0.65  31.15 230.18 276.36 295.52 314.66  356.1   2323    1.0\n",
       "a[15]   291.7    0.87  35.96 216.15 270.84  292.9 313.33 362.61   1692    1.0\n",
       "a[16]   296.6    0.65  35.15 221.75 275.74 296.33 317.55 368.25   2943    1.0\n",
       "a[17]  305.46     0.8  37.02 236.56  283.0 303.16 325.11 391.08   2167    1.0\n",
       "a[18]  273.71     1.1  41.15 178.46 249.99 279.44 301.61 341.71   1397    1.0\n",
       "a[19]  307.21    0.71  32.14 246.84 286.51 305.48 326.84 374.16   2063    1.0\n",
       "a[20]  290.05    0.57  29.92 226.78  272.4  291.4 308.65 348.53   2746    1.0\n",
       "a[21]  327.66    1.15   33.3 271.89 303.94 324.01 348.55  401.0    840    1.0\n",
       "a[22]  497.71    0.24  10.65  475.6 490.76 498.22 505.04 517.49   1920    1.0\n",
       "a[23]  515.75     0.2   8.57  498.6 510.12  515.5 521.57 532.63   1890    1.0\n",
       "a[24]  524.56    0.25   9.35 506.23 518.28 524.59 530.51 543.49   1424    1.0\n",
       "a[25]   494.3    0.35  11.27 472.89 486.38 493.58 501.92 517.38   1031    1.0\n",
       "a[26]  506.97    0.19   8.59 490.01 501.24 506.73 512.57 524.16   2004    1.0\n",
       "a[27]  497.61    0.48  14.43 471.75  487.0 496.91  507.3 527.09    888    1.0\n",
       "a[28]  488.59    0.34  10.71 469.14 481.18 487.85 495.45 510.96    975    1.0\n",
       "a[29]  482.39    0.52  15.04 454.99 471.55 481.81 492.79 511.23    838   1.01\n",
       "a1[0]  377.08    1.54  78.04 233.98 340.99 367.07 404.87 567.55   2562    1.0\n",
       "a1[1]  299.94    0.49  17.25 267.02 288.55 299.69 310.85 334.27   1241    1.0\n",
       "a1[2]  500.57    0.25   9.87 480.03 494.34  501.0 507.28 518.97   1505    1.0\n",
       "b0      17.58     1.3   36.4 -57.18   9.97   18.2  26.38  88.21    787    1.0\n",
       "b[0]     7.77    0.02   0.93   5.99   7.14   7.75   8.38   9.64   3225    1.0\n",
       "b[1]     19.4    0.02   1.31  16.75  18.56  19.42  20.27  22.03   3001    1.0\n",
       "b[2]    11.93    0.03   1.63    8.9  10.82  11.87  12.98  15.33   2345    1.0\n",
       "b[3]    10.37    0.16    5.0  -1.82   7.54  11.62  14.06  17.03    963    1.0\n",
       "b[4]     33.2    0.04   2.51   28.3  31.52  33.18  34.84  38.22   4000    1.0\n",
       "b[5]    35.75    0.11   3.61  27.82  33.55  36.05  38.24  42.03   1137    1.0\n",
       "b[6]    30.81    0.02   1.48  27.85  29.79  30.84  31.82  33.67   4000    1.0\n",
       "b[7]    25.14    0.04   2.06  20.95  23.83  25.21  26.51  29.08   2928    1.0\n",
       "b[8]    22.48    0.03    1.8  18.97  21.28  22.41  23.59  26.35   4000    1.0\n",
       "b[9]    29.21    0.05    2.1  25.26  27.77  29.12  30.59  33.45   1455   1.01\n",
       "b[10]    32.4    0.03    2.2  28.09  31.02  32.38  33.86  36.82   4000    1.0\n",
       "b[11]   34.18    0.03   1.61  31.06  33.12  34.18  35.23  37.28   4000    1.0\n",
       "b[12]   28.68    0.07   2.77  22.97  26.92  28.76   30.6  33.78   1560    1.0\n",
       "b[13]   24.11    0.06   2.41  19.43  22.48  24.09   25.7  28.88   1877    1.0\n",
       "b[14]   33.86    0.07   3.37   27.3  31.57  33.85   36.0  40.86   2653    1.0\n",
       "b[15]   19.51    0.04   1.69  16.15  18.41  19.48  20.55  22.99   2240    1.0\n",
       "b[16]   28.18    0.03   1.72  24.78  27.03  28.21  29.28  31.59   4000    1.0\n",
       "b[17]   28.77    0.06   2.98  22.33   27.0  28.89  30.69  34.33   2524    1.0\n",
       "b[18]   21.03    0.07   2.88   15.7  19.05   20.9  22.85  27.27   1654    1.0\n",
       "b[19]   33.92    0.04   1.87  30.14   32.7  33.96  35.14  37.57   2511    1.0\n",
       "b[20]   26.57    0.05   2.91  20.69  24.68  26.57  28.49  32.43   3130    1.0\n",
       "b[21]   28.02    0.04   1.62  24.61  26.94  28.09  29.13  31.01   1368    1.0\n",
       "b[22]   13.11    0.01   0.47  12.24   12.8   13.1  13.41  14.09   1982    1.0\n",
       "b[23]   13.24    0.01   0.48  12.32  12.91  13.24  13.56  14.18   2066    1.0\n",
       "b[24]   12.45    0.01   0.56  11.32  12.08  12.47  12.82   13.5   1582    1.0\n",
       "b[25]    12.1    0.03   0.93  10.09  11.49   12.2  12.75  13.75   1205    1.0\n",
       "b[26]   12.24    0.02   0.71  10.74  11.77   12.3  12.74  13.47   1172    1.0\n",
       "b[27]   11.72    0.03   0.95   9.75  11.09  11.81  12.45  13.28    866    1.0\n",
       "b[28]   11.84    0.04   1.11   9.29  11.18   12.0  12.64  13.61    806    1.0\n",
       "b[29]   12.07    0.03   0.73  10.64  11.58   12.1   12.6  13.38    800   1.01\n",
       "b1[0]   12.99    0.18   6.59   0.67  10.21  12.95  15.74  26.76   1411    1.0\n",
       "b1[1]   28.52    0.04   1.64  25.39  27.44  28.53  29.58  31.89   1663    1.0\n",
       "b1[2]   12.35    0.02   0.59  11.04  12.03  12.39  12.74  13.37   1194    1.0\n",
       "s_Y[0]  28.59    0.06   3.82   22.2  25.88  28.23  30.84  37.35   4000    1.0\n",
       "s_Y[1]  76.21    0.06   4.07  68.79  73.28  75.98  78.91   84.6   4000    1.0\n",
       "s_Y[2]  11.65    0.02    1.4   9.26  10.69  11.52   12.5  14.76   4000    1.0\n",
       "s_a[0] 134.45    5.34 165.44   12.8  44.02  87.17  166.1 531.02    960    1.0\n",
       "s_a[1]  34.07    0.93  18.26   5.77  20.23  32.04  45.42  76.22    389   1.01\n",
       "s_a[2]  20.75     0.3   9.66   5.43  14.51  19.31  25.48  43.26   1061    1.0\n",
       "s_b[0]  11.19    0.36  13.01   3.13   5.48   7.86   12.5  37.28   1340    1.0\n",
       "s_b[1]    5.7    0.02   1.28   3.69   4.82   5.58   6.39   8.52   2946    1.0\n",
       "s_b[2]   0.98    0.02   0.63   0.12   0.57   0.88   1.26   2.52    672    1.0\n",
       "s_ag   269.06    6.46 203.64  65.03  123.9 198.99 340.26 855.38    995    1.0\n",
       "s_bg     41.1    2.41  60.29   5.58  11.89  20.12  41.23 242.24    628   1.01\n",
       "lp__    -1475    0.68  11.82  -1496  -1483  -1476  -1468  -1449    305   1.01\n",
       "\n",
       "Samples were drawn using NUTS at Sun Nov 27 17:54:18 2016.\n",
       "For each parameter, n_eff is a crude measure of effective sample size,\n",
       "and Rhat is the potential scale reduction factor on split chains (at \n",
       "convergence, Rhat=1)."
      ]
     },
     "execution_count": 135,
     "metadata": {},
     "output_type": "execute_result"
    }
   ],
   "source": [
    "fit6"
   ]
  },
  {
   "cell_type": "markdown",
   "metadata": {},
   "source": [
    "### 8.3 非線形モデルの階層モデル"
   ]
  },
  {
   "cell_type": "code",
   "execution_count": 136,
   "metadata": {
    "collapsed": true
   },
   "outputs": [],
   "source": [
    "df3 = pd.read_csv(\"input/data-conc-2.txt\")"
   ]
  },
  {
   "cell_type": "code",
   "execution_count": 137,
   "metadata": {
    "collapsed": false,
    "scrolled": true
   },
   "outputs": [
    {
     "data": {
      "text/html": [
       "<div>\n",
       "<table border=\"1\" class=\"dataframe\">\n",
       "  <thead>\n",
       "    <tr style=\"text-align: right;\">\n",
       "      <th></th>\n",
       "      <th>PersonID</th>\n",
       "      <th>Time1</th>\n",
       "      <th>Time2</th>\n",
       "      <th>Time4</th>\n",
       "      <th>Time8</th>\n",
       "      <th>Time12</th>\n",
       "      <th>Time24</th>\n",
       "    </tr>\n",
       "  </thead>\n",
       "  <tbody>\n",
       "    <tr>\n",
       "      <th>0</th>\n",
       "      <td>1</td>\n",
       "      <td>2.4</td>\n",
       "      <td>5.0</td>\n",
       "      <td>7.5</td>\n",
       "      <td>11.9</td>\n",
       "      <td>12.5</td>\n",
       "      <td>12.7</td>\n",
       "    </tr>\n",
       "    <tr>\n",
       "      <th>1</th>\n",
       "      <td>2</td>\n",
       "      <td>1.4</td>\n",
       "      <td>3.9</td>\n",
       "      <td>4.4</td>\n",
       "      <td>7.7</td>\n",
       "      <td>6.4</td>\n",
       "      <td>8.3</td>\n",
       "    </tr>\n",
       "    <tr>\n",
       "      <th>2</th>\n",
       "      <td>3</td>\n",
       "      <td>5.2</td>\n",
       "      <td>9.4</td>\n",
       "      <td>19.4</td>\n",
       "      <td>20.2</td>\n",
       "      <td>22.7</td>\n",
       "      <td>24.9</td>\n",
       "    </tr>\n",
       "    <tr>\n",
       "      <th>3</th>\n",
       "      <td>4</td>\n",
       "      <td>6.7</td>\n",
       "      <td>12.6</td>\n",
       "      <td>19.1</td>\n",
       "      <td>23.4</td>\n",
       "      <td>25.8</td>\n",
       "      <td>26.1</td>\n",
       "    </tr>\n",
       "    <tr>\n",
       "      <th>4</th>\n",
       "      <td>5</td>\n",
       "      <td>0.3</td>\n",
       "      <td>4.7</td>\n",
       "      <td>7.0</td>\n",
       "      <td>10.2</td>\n",
       "      <td>12.9</td>\n",
       "      <td>14.8</td>\n",
       "    </tr>\n",
       "  </tbody>\n",
       "</table>\n",
       "</div>"
      ],
      "text/plain": [
       "   PersonID  Time1  Time2  Time4  Time8  Time12  Time24\n",
       "0         1    2.4    5.0    7.5   11.9    12.5    12.7\n",
       "1         2    1.4    3.9    4.4    7.7     6.4     8.3\n",
       "2         3    5.2    9.4   19.4   20.2    22.7    24.9\n",
       "3         4    6.7   12.6   19.1   23.4    25.8    26.1\n",
       "4         5    0.3    4.7    7.0   10.2    12.9    14.8"
      ]
     },
     "execution_count": 137,
     "metadata": {},
     "output_type": "execute_result"
    }
   ],
   "source": [
    "df3.head()"
   ]
  },
  {
   "cell_type": "code",
   "execution_count": 140,
   "metadata": {
    "collapsed": false
   },
   "outputs": [
    {
     "data": {
      "image/png": "[encoded data removed]",
      "text/plain": [
       "<matplotlib.figure.Figure at 0x1132c3dd8>"
      ]
     },
     "metadata": {},
     "output_type": "display_data"
    }
   ],
   "source": [
    "fig = plt.figure(figsize=(12,6))\n",
    "time = [1,2,4,8,12,24]\n",
    "for i in df3.PersonID:\n",
    "    if ax == None:\n",
    "        ax = fig.add_subplot(4,4,i)\n",
    "    else:\n",
    "        ax = fig.add_subplot(4,4,i,sharey=ax)\n",
    "    ax.scatter(time, df3.iloc[i -1,1:].values)\n",
    "    ax.plot(time, df3.iloc[i -1,1:].values)    "
   ]
  },
  {
   "cell_type": "code",
   "execution_count": 150,
   "metadata": {
    "collapsed": false
   },
   "outputs": [
    {
     "data": {
      "text/plain": [
       "<matplotlib.axes._subplots.AxesSubplot at 0x1162f7b70>"
      ]
     },
     "execution_count": 150,
     "metadata": {},
     "output_type": "execute_result"
    },
    {
     "data": {
      "image/png": "[encoded data removed]",
      "text/plain": [
       "<matplotlib.figure.Figure at 0x116294a90>"
      ]
     },
     "metadata": {},
     "output_type": "display_data"
    }
   ],
   "source": [
    "sns.distplot(df3.Time24, bins=9, kde=False, rug=True)"
   ]
  },
  {
   "cell_type": "code",
   "execution_count": 161,
   "metadata": {
    "collapsed": false
   },
   "outputs": [],
   "source": [
    "time = [1,2,4,8,12,24]\n",
    "Time_new = np.arange(0,25)\n",
    "data7 = {\"N\":len(df3), \"T\":len(time), \"Time\":time, \"Y\":df3.iloc[:,1:].values, \"T_new\":len(Time_new), \"Time_new\":Time_new}\n",
    "fit7 = pystan.stan(file=\"stan/model8-7.stan\", data=data7, seed=1234)"
   ]
  },
  {
   "cell_type": "code",
   "execution_count": 162,
   "metadata": {
    "collapsed": false
   },
   "outputs": [
    {
     "data": {
      "text/plain": [
       "Inference for Stan model: anon_model_6c625b482db4695042920f5de78d5b65.\n",
       "4 chains, each with iter=2000; warmup=1000; thin=1; \n",
       "post-warmup draws per chain=1000, total post-warmup draws=4000.\n",
       "\n",
       "               mean se_mean     sd   2.5%    25%    50%    75%  97.5%  n_eff   Rhat\n",
       "a0             2.86  2.1e-3   0.11   2.65   2.79   2.86   2.93   3.08   2690   1.01\n",
       "b0            -1.17  7.4e-3   0.12  -1.42  -1.25  -1.17  -1.08  -0.96    280   1.01\n",
       "log_a[0]       2.56  6.3e-3    0.1   2.38   2.49   2.56   2.62   2.75    237   1.01\n",
       "log_a[1]       2.11  3.7e-3   0.14   1.85   2.02   2.12   2.21   2.39   1413   1.01\n",
       "log_a[2]       3.17  1.2e-3   0.05   3.08   3.14   3.17    3.2   3.27   1653    1.0\n",
       "log_a[3]       3.26  8.6e-4   0.04   3.17   3.23   3.26   3.29   3.34   2630    1.0\n",
       "log_a[4]       2.63  7.1e-3   0.11   2.43   2.56   2.63   2.71   2.86    236   1.01\n",
       "log_a[5]       2.74  4.8e-3    0.1   2.56   2.68   2.74   2.81   2.94    395   1.01\n",
       "log_a[6]       2.69  7.1e-3   0.09    2.5   2.63   2.69   2.75   2.87    174   1.02\n",
       "log_a[7]       2.59  4.3e-3   0.08   2.43   2.53   2.59   2.64   2.75    375   1.01\n",
       "log_a[8]       3.46  1.3e-3   0.04   3.39   3.44   3.46   3.49   3.53    710    1.0\n",
       "log_a[9]       2.88  4.0e-3   0.06   2.77   2.84   2.88   2.92    3.0    229   1.02\n",
       "log_a[10]      2.98 10.0e-4   0.05   2.87   2.94   2.98   3.01   3.08   2984    1.0\n",
       "log_a[11]      2.79  3.1e-3   0.06   2.67   2.74   2.79   2.83   2.91    388   1.01\n",
       "log_a[12]      2.44  5.8e-3   0.11   2.22   2.36   2.44   2.51   2.66    365   1.01\n",
       "log_a[13]      3.21  1.0e-3   0.05   3.11   3.18   3.21   3.25   3.32   2724    1.0\n",
       "log_a[14]      2.81  1.1e-3   0.06   2.69   2.77   2.82   2.86   2.94   3350    1.0\n",
       "log_a[15]      3.46  3.5e-3   0.03    3.4   3.44   3.46   3.49   3.55    101   1.04\n",
       "log_b[0]      -1.35    0.01   0.24  -1.84  -1.52  -1.35  -1.18  -0.91    299   1.01\n",
       "log_b[1]      -1.35    0.01   0.34   -2.1  -1.56  -1.34  -1.11  -0.73    600   1.01\n",
       "log_b[2]       -1.2  9.1e-3   0.15  -1.49   -1.3   -1.2   -1.1  -0.92    272   1.01\n",
       "log_b[3]      -1.13  3.5e-3   0.14   -1.4  -1.22  -1.13  -1.04  -0.87   1503    1.0\n",
       "log_b[4]      -1.62    0.02   0.29  -2.18  -1.81  -1.62  -1.43  -1.02    137   1.02\n",
       "log_b[5]      -1.44    0.02   0.28   -2.0  -1.63  -1.44  -1.24  -0.93    267   1.01\n",
       "log_b[6]      -1.41    0.02   0.24   -1.9  -1.57  -1.41  -1.24  -0.98    220   1.01\n",
       "log_b[7]      -1.07  4.6e-3   0.26  -1.56  -1.24  -1.06  -0.91  -0.53   3094    1.0\n",
       "log_b[8]      -0.95  2.2e-3   0.13  -1.19  -1.03  -0.95  -0.86  -0.69   3260    1.0\n",
       "log_b[9]      -0.89  4.0e-3    0.2  -1.27  -1.02   -0.9  -0.77  -0.48   2490    1.0\n",
       "log_b[10]     -0.96  3.6e-3   0.19  -1.34  -1.09  -0.95  -0.84  -0.57   2862    1.0\n",
       "log_b[11]     -0.69    0.01   0.23  -1.11  -0.85   -0.7  -0.54  -0.22    341   1.01\n",
       "log_b[12]     -1.48    0.02   0.29  -2.07  -1.67  -1.48  -1.29  -0.96    187   1.02\n",
       "log_b[13]     -1.38    0.01   0.16  -1.69  -1.48  -1.38  -1.28  -1.06    157   1.02\n",
       "log_b[14]     -1.17  3.1e-3   0.18  -1.52  -1.28  -1.16  -1.05  -0.81   3325    1.0\n",
       "log_b[15]     -0.69    0.01   0.13   -1.0  -0.77  -0.68   -0.6  -0.46     98   1.04\n",
       "s_a            0.42  1.8e-3   0.09   0.28   0.36    0.4   0.46   0.64   2526    1.0\n",
       "s_b            0.37    0.01   0.13   0.07    0.3   0.37   0.45   0.65     97   1.03\n",
       "s_Y            1.71    0.01   0.16   1.44    1.6    1.7   1.81   2.05    169   1.02\n",
       "a[0]          12.97    0.08   1.26   10.8  12.09  12.94  13.79  15.62    259   1.01\n",
       "a[1]           8.37    0.03   1.19   6.33   7.55    8.3   9.14  10.89   2117   1.01\n",
       "a[2]          23.86    0.03   1.17  21.72   23.0   23.8  24.64  26.31   1630    1.0\n",
       "a[3]          25.99    0.02   1.14  23.74  25.22  25.96  26.81   28.3   2624    1.0\n",
       "a[4]          14.03     0.1   1.54  11.37  12.95  13.92  14.97  17.46    264   1.01\n",
       "a[5]           15.6    0.07    1.5  12.99  14.57  15.53  16.53  18.87    424   1.01\n",
       "a[6]          14.74     0.1   1.39  12.17  13.82  14.71  15.61  17.63    196   1.02\n",
       "a[7]          13.33    0.06   1.11  11.32  12.56  13.29  14.07  15.57    401   1.01\n",
       "a[8]          31.94    0.04   1.14  29.72  31.15  31.95  32.75  34.13    704    1.0\n",
       "a[9]          17.79    0.07   1.08  15.88  17.05  17.78  18.49  19.99    242   1.02\n",
       "a[10]         19.66    0.02   1.07  17.64  18.91  19.67  20.36   21.8   2990    1.0\n",
       "a[11]         16.27    0.04   0.98   14.5  15.56  16.23  16.93  18.27    503   1.01\n",
       "a[12]          11.5    0.06   1.29   9.24   10.6  11.43  12.28  14.24    401   1.01\n",
       "a[13]         24.84    0.03   1.31   22.4  24.01  24.77  25.67   27.6   2714    1.0\n",
       "a[14]         16.72    0.02   1.07  14.71  16.01  16.71   17.4   18.9   3357    1.0\n",
       "a[15]         31.99    0.11   1.12  29.97  31.24  31.91  32.63  34.89     95   1.04\n",
       "b[0]           0.27  3.9e-3   0.07   0.16   0.22   0.26   0.31    0.4    275   1.01\n",
       "b[1]           0.27  3.8e-3    0.1   0.12   0.21   0.26   0.33   0.48    631   1.01\n",
       "b[2]            0.3  2.9e-3   0.05   0.22   0.27    0.3   0.33    0.4    257   1.01\n",
       "b[3]           0.33  1.1e-3   0.04   0.25   0.29   0.32   0.36   0.42   1520    1.0\n",
       "b[4]           0.21  6.2e-3   0.06   0.11   0.16    0.2   0.24   0.36     96   1.03\n",
       "b[5]           0.25  4.6e-3   0.07   0.14    0.2   0.24   0.29   0.39    226   1.02\n",
       "b[6]           0.25  4.6e-3   0.06   0.15   0.21   0.24   0.29   0.38    178   1.02\n",
       "b[7]           0.36  1.7e-3    0.1   0.21   0.29   0.35    0.4   0.59   3075    1.0\n",
       "b[8]           0.39  8.8e-4   0.05    0.3   0.36   0.39   0.42    0.5   3233    1.0\n",
       "b[9]           0.42  1.8e-3   0.09   0.28   0.36   0.41   0.47   0.62   2281    1.0\n",
       "b[10]          0.39  1.4e-3   0.08   0.26   0.34   0.39   0.43   0.57   2852    1.0\n",
       "b[11]          0.51  5.2e-3   0.12   0.33   0.43    0.5   0.58    0.8    550   1.01\n",
       "b[12]          0.24  5.7e-3   0.07   0.13   0.19   0.23   0.28   0.38    141   1.02\n",
       "b[13]          0.26  3.6e-3   0.04   0.18   0.23   0.25   0.28   0.35    132   1.03\n",
       "b[14]          0.32  9.9e-4   0.06   0.22   0.28   0.31   0.35   0.45   3329    1.0\n",
       "b[15]          0.51  5.8e-3   0.06   0.37   0.46    0.5   0.55   0.63    123   1.03\n",
       "y_new[0,0]     0.03    0.03   1.72  -3.37  -1.09   0.05    1.2   3.48   4000    1.0\n",
       "y_new[1,0]    -0.08    0.03   1.68  -3.53  -1.17  -0.06   1.01   3.23   3491    1.0\n",
       "y_new[2,0]  -8.0e-3    0.03   1.71  -3.42  -1.17  -0.01   1.15   3.27   3957    1.0\n",
       "y_new[3,0]    -0.05    0.03   1.68  -3.35  -1.18  -0.05   1.08   3.31   4000    1.0\n",
       "y_new[4,0]   4.7e-3    0.03   1.69  -3.34  -1.12   0.01   1.11   3.27   4000    1.0\n",
       "y_new[5,0]     0.03    0.03   1.73   -3.4   -1.1   0.01   1.17   3.48   3881    1.0\n",
       "y_new[6,0]   1.4e-3    0.03   1.73  -3.43  -1.16 4.1e-3   1.17   3.37   3870    1.0\n",
       "y_new[7,0]   4.1e-3    0.03   1.73   -3.4  -1.14   0.03   1.12    3.4   4000    1.0\n",
       "y_new[8,0]     0.02    0.03   1.69   -3.3   -1.1   0.06   1.16   3.28   4000    1.0\n",
       "y_new[9,0]  -7.6e-4    0.03   1.71  -3.36  -1.14-1.5e-3   1.15   3.31   3882    1.0\n",
       "y_new[10,0]   -0.04    0.03    1.7  -3.43  -1.16  -0.01   1.08    3.4   4000    1.0\n",
       "y_new[11,0]    0.01    0.03   1.71  -3.35  -1.14   0.03   1.15   3.39   3842    1.0\n",
       "y_new[12,0]   -0.02    0.03   1.74  -3.47  -1.18  -0.04   1.12   3.44   3922    1.0\n",
       "y_new[13,0]    0.05    0.03   1.71  -3.28  -1.09   0.04   1.22   3.37   4000    1.0\n",
       "y_new[14,0]   -0.01    0.03   1.71  -3.33  -1.19  -0.01   1.14   3.33   3949    1.0\n",
       "y_new[15,0]   -0.02    0.03   1.73  -3.43  -1.17  -0.04   1.12   3.43   3848    1.0\n",
       "y_new[0,1]     2.96    0.03   1.78  -0.49   1.77   2.97   4.12   6.46   3488    1.0\n",
       "y_new[1,1]     1.96    0.03   1.79  -1.55   0.73   1.97   3.16   5.41   4000    1.0\n",
       "y_new[2,1]     6.21    0.03   1.87   2.62   4.94   6.19   7.44   9.95   4000    1.0\n",
       "y_new[3,1]     7.19    0.03   1.87   3.56   5.95   7.19   8.43  10.82   4000    1.0\n",
       "y_new[4,1]     2.57    0.03   1.77  -0.88   1.37   2.55   3.71   6.17   2714    1.0\n",
       "y_new[5,1]     3.26    0.03   1.85  -0.42   2.06   3.25   4.46   6.91   3759    1.0\n",
       "y_new[6,1]     3.21    0.03   1.82  -0.43   2.04   3.18   4.45   6.74   4000    1.0\n",
       "y_new[7,1]     3.93    0.03   1.88   0.12    2.7   3.97   5.17   7.58   3898    1.0\n",
       "y_new[8,1]    10.25    0.03   1.96   6.49   8.91  10.25  11.58  14.13   4000    1.0\n",
       "y_new[9,1]     6.03    0.03   1.95    2.1   4.78   6.01   7.33   9.81   3301    1.0\n",
       "y_new[10,1]    6.28    0.03   1.89   2.63    5.0   6.27   7.53  10.05   4000    1.0\n",
       "y_new[11,1]    6.38    0.04   1.98   2.46   5.04   6.42   7.71  10.28   3091    1.0\n",
       "y_new[12,1]     2.3    0.03   1.79   -1.1   1.07   2.29    3.5   5.86   4000    1.0\n",
       "y_new[13,1]    5.57    0.03   1.83   2.01   4.37   5.52   6.77   9.25   3123    1.0\n",
       "y_new[14,1]    4.47    0.03   1.82   0.89   3.26   4.43   5.67   8.17   4000    1.0\n",
       "y_new[15,1]   12.61    0.05   2.01   8.53  11.28  12.61  13.94  16.59   1388    1.0\n",
       "y_new[0,2]     5.24    0.03   1.85   1.74   3.98   5.26   6.49   8.98   4000    1.0\n",
       "y_new[1,2]      3.4    0.06   1.86  -0.18   2.14   3.41    4.6   7.09    993    1.0\n",
       "y_new[2,2]    10.75    0.03   1.97   6.86   9.46  10.73  12.03  14.63   4000    1.0\n",
       "y_new[3,2]    12.32    0.03   1.96    8.4  11.03  12.33  13.59   16.3   4000   1.01\n",
       "y_new[4,2]      4.6    0.03   1.87    0.9   3.35   4.57   5.86   8.22   3890    1.0\n",
       "y_new[5,2]     5.92    0.03   1.96   2.01   4.59    5.9   7.21   9.77   3612    1.0\n",
       "y_new[6,2]     5.75    0.03    1.9   2.17   4.43   5.76   7.02   9.49   4000    1.0\n",
       "y_new[7,2]     6.61    0.03   1.95   2.86   5.29   6.61   7.93   10.4   3748    1.0\n",
       "y_new[8,2]    17.22    0.03   2.02  13.32  15.85  17.22  18.55  21.35   4000    1.0\n",
       "y_new[9,2]     9.94    0.03   2.04   5.94   8.61   9.92  11.32  13.86   4000    1.0\n",
       "y_new[10,2]   10.48    0.03   2.03   6.52   9.11  10.48  11.82  14.45   4000    1.0\n",
       "y_new[11,2]   10.27    0.08   2.09   6.04    8.9  10.28   11.7  14.26    718   1.01\n",
       "y_new[12,2]    4.16    0.03   1.85    0.5   2.91   4.14   5.41   7.86   3209    1.0\n",
       "y_new[13,2]    9.89    0.03   1.95   6.15   8.57   9.84  11.18  13.86   4000   1.01\n",
       "y_new[14,2]    7.75    0.03   1.89   4.03    6.5   7.76   8.99  11.48   4000    1.0\n",
       "y_new[15,2]   20.22    0.09    2.1  15.99  18.83  20.26   21.6  24.28    607   1.01\n",
       "y_new[0,3]     6.96    0.03    1.9   3.16   5.68   6.93   8.26  10.78   4000    1.0\n",
       "y_new[1,3]     4.48    0.08   1.92   0.77   3.19   4.44   5.74   8.36    562   1.01\n",
       "y_new[2,3]     14.1    0.03   2.01  10.13   12.8   14.1  15.39   18.1   4000    1.0\n",
       "y_new[3,3]    16.05    0.06   2.03  12.21  14.67  16.02  17.39  20.13   1095    1.0\n",
       "y_new[4,3]     6.26    0.05   1.91   2.62   4.95   6.21   7.57   10.0   1553    1.0\n",
       "y_new[5,3]     7.88    0.03   2.03   3.93    6.5   7.86   9.28  11.87   3568    1.0\n",
       "y_new[6,3]     7.61    0.03   1.95   3.77    6.3   7.58   8.94  11.44   4000    1.0\n",
       "y_new[7,3]     8.52    0.03   1.95   4.61   7.21   8.49   9.83  12.45   4000    1.0\n",
       "y_new[8,3]    21.95    0.03   2.05  17.99  20.54  21.93  23.35  25.86   4000    1.0\n",
       "y_new[9,3]    12.53    0.03    2.0   8.57   11.2  12.58  13.89  16.38   4000    1.0\n",
       "y_new[10,3]   13.39    0.03   2.02   9.44  12.01  13.39   14.7  17.32   4000    1.0\n",
       "y_new[11,3]   12.55    0.08   1.99    8.6  11.23  12.55  13.89  16.33    676   1.01\n",
       "y_new[12,3]    5.67    0.03   1.92   1.88   4.41   5.68   6.96   9.48   4000    1.0\n",
       "y_new[13,3]   13.13    0.11   2.03   9.16  11.79  13.11  14.46  17.13    373   1.01\n",
       "y_new[14,3]   10.09    0.03   1.98   6.19   8.76   10.1  11.42  13.95   4000    1.0\n",
       "y_new[15,3]   24.76    0.03   2.04  20.73  23.43  24.79  26.12   28.7   4000    1.0\n",
       "y_new[0,4]     8.29    0.03   1.93   4.51   6.97   8.32    9.6  12.04   4000    1.0\n",
       "y_new[1,4]     5.34    0.03   1.98   1.45   4.04   5.35   6.66   9.22   4000    1.0\n",
       "y_new[2,4]    16.62    0.03   1.98  12.68   15.3   16.6  17.92  20.46   4000    1.0\n",
       "y_new[3,4]    18.77    0.03   2.03  14.86  17.45  18.77  20.13  22.78   4000    1.0\n",
       "y_new[4,4]     7.62    0.03   1.92   3.99   6.33   7.58    8.9  11.49   4000    1.0\n",
       "y_new[5,4]     9.44    0.03   2.02   5.59   8.05   9.42  10.82  13.43   4000    1.0\n",
       "y_new[6,4]     9.11    0.03   1.93   5.35   7.84    9.1  10.41  12.92   4000    1.0\n",
       "y_new[7,4]     9.87    0.03   1.97   5.92   8.56   9.88  11.18  13.65   4000    1.0\n",
       "y_new[8,4]    25.09    0.03   1.98  21.18  23.75  25.07  26.43   29.0   4000    1.0\n",
       "y_new[9,4]    14.27    0.03   1.99  10.19   13.0  14.29   15.6  18.17   4000   1.01\n",
       "y_new[10,4]   15.26    0.03   1.99  11.26  13.95  15.29  16.65  19.02   4000    1.0\n",
       "y_new[11,4]   13.91    0.09   1.99   9.88  12.61  13.99  15.26  17.65    510   1.01\n",
       "y_new[12,4]    6.77    0.03   1.94   2.94   5.46   6.78    8.1  10.53   4000    1.0\n",
       "y_new[13,4]   15.73    0.08   2.03  11.75  14.38  15.73  17.06  19.78    609   1.01\n",
       "y_new[14,4]   11.82    0.03   1.91   8.09   10.5  11.83  13.11  15.56   4000    1.0\n",
       "y_new[15,4]   27.58    0.03   1.93  23.83  26.27   27.6  28.85  31.34   4000    1.0\n",
       "y_new[0,5]     9.33    0.03   1.94   5.62    8.0   9.33  10.64  13.18   4000    1.0\n",
       "y_new[1,5]      6.0    0.03   1.92   2.25   4.75   5.98   7.25   9.81   3167    1.0\n",
       "y_new[2,5]    18.47    0.03   1.93  14.71  17.15  18.48  19.73   22.3   4000    1.0\n",
       "y_new[3,5]    20.73    0.03   2.02  16.75  19.35  20.75  22.09  24.73   4000   1.01\n",
       "y_new[4,5]     8.67    0.04   1.96   4.81   7.37   8.65   9.97  12.47   2662    1.0\n",
       "y_new[5,5]    10.63    0.03   1.99   6.72   9.31  10.62  11.94  14.55   4000    1.0\n",
       "y_new[6,5]    10.29    0.03   1.93   6.52   8.97  10.28  11.55  14.16   4000    1.0\n",
       "y_new[7,5]    10.84    0.03   1.95   6.98   9.55  10.88  12.14  14.71   4000    1.0\n",
       "y_new[8,5]     27.3    0.03   1.91   23.6  26.04  27.26  28.58  31.06   4000    1.0\n",
       "y_new[9,5]     15.4    0.03   1.91   11.7  14.12  15.41  16.73  19.06   4000    1.0\n",
       "y_new[10,5]   16.58    0.03   1.96  12.71  15.23  16.62  17.92  20.43   4000    1.0\n",
       "y_new[11,5]   14.82    0.08   1.94  10.78  13.54  14.88  16.13  18.45    598   1.01\n",
       "y_new[12,5]     7.7    0.03   1.93   3.86   6.43    7.7   8.97  11.48   4000    1.0\n",
       "y_new[13,5]   17.71    0.03   2.02  13.79  16.38   17.7  19.04  21.73   4000   1.01\n",
       "y_new[14,5]    13.1    0.03    1.9   9.28  11.86  13.18  14.36   16.8   4000    1.0\n",
       "y_new[15,5]   29.26    0.03   1.93  25.45  27.95  29.25  30.52  32.95   4000    1.0\n",
       "y_new[0,6]    10.04    0.03   1.93   6.14   8.78  10.08  11.32   13.8   4000    1.0\n",
       "y_new[1,6]     6.48    0.03   1.93    2.7   5.21   6.49   7.73  10.29   4000    1.0\n",
       "y_new[2,6]    19.79    0.03    1.9  15.98  18.52  19.84   21.1  23.39   4000    1.0\n",
       "y_new[3,6]    22.14    0.04   1.95  18.32  20.84  22.13  23.46  25.94   2731    1.0\n",
       "y_new[4,6]     9.62    0.03   1.92   5.88   8.34   9.64  10.91  13.37   4000    1.0\n",
       "y_new[5,6]    11.71    0.03   2.01   7.68   10.4  11.71  13.04  15.73   4000    1.0\n",
       "y_new[6,6]    11.17    0.03   1.93   7.34   9.85   11.2  12.43  14.94   4000    1.0\n",
       "y_new[7,6]    11.48    0.03   1.89   7.81  10.24  11.49  12.74  15.23   4000    1.0\n",
       "y_new[8,6]    28.76    0.03    1.9  24.96  27.51  28.77  30.03  32.46   4000    1.0\n",
       "y_new[9,6]    16.18    0.04   1.89  12.43  14.91  16.17  17.43  19.88   2141    1.0\n",
       "y_new[10,6]   17.54    0.03   1.92  13.79  16.27  17.53  18.81  21.43   4000    1.0\n",
       "y_new[11,6]   15.34    0.03   1.86  11.73  14.09  15.34  16.54  19.11   4000    1.0\n",
       "y_new[12,6]    8.41    0.03    1.9   4.72   7.09   8.41   9.69  12.17   4000    1.0\n",
       "y_new[13,6]   19.26    0.03   1.95   15.4  17.95   19.2  20.59  23.14   4000    1.0\n",
       "y_new[14,6]   14.03    0.03    1.9  10.23  12.81  14.04  15.29  17.73   4000    1.0\n",
       "y_new[15,6]   30.31    0.03    1.9  26.63  29.05  30.34  31.58  34.02   4000    1.0\n",
       "y_new[0,7]    10.72    0.03    1.9   6.99   9.44  10.73  11.98  14.48   4000    1.0\n",
       "y_new[1,7]     6.81    0.06   1.93   3.05   5.54    6.8   8.08  10.69   1112   1.01\n",
       "y_new[2,7]    20.83    0.03    1.9  17.07  19.56  20.84  22.14  24.46   4000    1.0\n",
       "y_new[3,7]    23.18    0.05   1.97  19.33  21.87  23.17  24.47  27.05   1449    1.0\n",
       "y_new[4,7]    10.31    0.03   1.86   6.71   9.04  10.31  11.53  13.95   4000    1.0\n",
       "y_new[5,7]    12.42    0.03   1.94   8.65  11.12  12.48  13.69  16.31   4000    1.0\n",
       "y_new[6,7]    11.97    0.03   1.92   8.19  10.65  11.96  13.24  15.72   4000    1.0\n",
       "y_new[7,7]     12.0    0.03   1.89   8.24  10.72  12.05  13.25   15.8   4000    1.0\n",
       "y_new[8,7]    29.73    0.03   1.91  25.84  28.49   29.7  30.98  33.53   4000    1.0\n",
       "y_new[9,7]    16.64    0.03   1.94  12.79  15.37  16.67  17.95  20.27   4000    1.0\n",
       "y_new[10,7]   18.19    0.03   1.86   14.5  16.97  18.21   19.4  21.82   4000    1.0\n",
       "y_new[11,7]   15.67    0.03   1.93  11.81  14.42  15.69  16.98  19.38   4000    1.0\n",
       "y_new[12,7]    8.99    0.03    1.9   5.27   7.76   8.97  10.27  12.76   4000    1.0\n",
       "y_new[13,7]    20.5    0.03   1.95  16.71  19.15  20.48   21.8  24.39   4000    1.0\n",
       "y_new[14,7]   14.74    0.03    1.9  10.96  13.49  14.74  15.99   18.5   4000    1.0\n",
       "y_new[15,7]   30.96    0.03    1.9  27.26  29.68  30.94  32.21  34.81   4000    1.0\n",
       "y_new[0,8]    11.13    0.03   1.93   7.34    9.8  11.17  12.44  14.93   4000    1.0\n",
       "y_new[1,8]     7.18    0.04   1.94   3.43   5.89   7.16   8.45  11.07   1874    1.0\n",
       "y_new[2,8]    21.62    0.03    1.9  17.93  20.32  21.64  22.87  25.38   4000    1.0\n",
       "y_new[3,8]    23.95    0.03   1.91  20.16  22.72  23.95   25.2  27.74   4000    1.0\n",
       "y_new[4,8]    10.96    0.03   1.88   7.31   9.67  10.95  12.21  14.75   4000    1.0\n",
       "y_new[5,8]    13.04    0.03   1.94   9.33  11.76  13.01  14.31   16.9   4000    1.0\n",
       "y_new[6,8]    12.42    0.03   1.96   8.51  11.15  12.44  13.71  16.32   4000    1.0\n",
       "y_new[7,8]    12.35    0.03   1.91   8.56  11.07  12.37  13.64  16.12   3285    1.0\n",
       "y_new[8,8]    30.44    0.03   1.94  26.63  29.14  30.47  31.72  34.23   4000    1.0\n",
       "y_new[9,8]    16.99    0.05   1.94  13.27  15.67  16.97   18.3   20.8   1420    1.0\n",
       "y_new[10,8]    18.6    0.03   1.94  14.73  17.32  18.58  19.92  22.41   4000    1.0\n",
       "y_new[11,8]   15.87    0.04   1.92  12.21  14.58  15.87  17.15  19.61   2945    1.0\n",
       "y_new[12,8]    9.46    0.03   1.89   5.83   8.18   9.46  10.66  13.29   4000    1.0\n",
       "y_new[13,8]   21.39    0.03   1.92  17.63  20.09   21.4  22.63  25.19   4000    1.0\n",
       "y_new[14,8]   15.23    0.03   1.91  11.46  13.96  15.22  16.49   18.9   4000    1.0\n",
       "y_new[15,8]   31.36    0.05   1.92  27.53   30.1  31.33  32.64  35.17   1267    1.0\n",
       "y_new[0,9]    11.56    0.03    1.9    7.9   10.3   11.6  12.83  15.39   4000    1.0\n",
       "y_new[1,9]     7.36    0.03   1.93   3.64   6.07   7.32   8.66  11.24   4000    1.0\n",
       "y_new[2,9]    22.21    0.03   1.89  18.51  20.96  22.21  23.48  26.01   4000    1.0\n",
       "y_new[3,9]    24.44    0.03   1.89  20.71  23.22  24.46  25.66  28.26   3529    1.0\n",
       "y_new[4,9]    11.46    0.03   1.92   7.58  10.19  11.45  12.75  15.25   4000    1.0\n",
       "y_new[5,9]    13.53    0.03   1.92   9.76  12.24  13.54  14.82  17.35   4000    1.0\n",
       "y_new[6,9]    12.93    0.03   1.91   9.12  11.66  12.88  14.24  16.69   4000    1.0\n",
       "y_new[7,9]    12.54    0.03   1.93   8.78  11.25  12.55  13.84  16.28   3963    1.0\n",
       "y_new[8,9]     30.9    0.03   1.96  27.05   29.6  30.89   32.2  34.81   4000    1.0\n",
       "y_new[9,9]    17.19    0.06   1.95  13.29  15.89  17.18  18.44  21.02   1037   1.01\n",
       "y_new[10,9]   18.94    0.03    1.9  15.07  17.72  18.97   20.2  22.56   4000    1.0\n",
       "y_new[11,9]   15.99    0.03   1.94  12.23  14.72  15.98  17.25  20.04   4000   1.01\n",
       "y_new[12,9]     9.8    0.03   1.92   5.96   8.48   9.84  11.08  13.52   4000    1.0\n",
       "y_new[13,9]   22.17    0.03   1.94  18.44  20.86   22.2  23.49  25.91   4000    1.0\n",
       "y_new[14,9]   15.62    0.03    1.9  11.98  14.33  15.63   16.9  19.34   4000    1.0\n",
       "y_new[15,9]    31.6    0.07   1.98  27.84  30.27  31.56   32.9  35.67    709   1.01\n",
       "y_new[0,10]   11.82    0.03   1.94   7.93  10.58  11.78  13.09  15.67   3353    1.0\n",
       "y_new[1,10]    7.55    0.05   1.97    3.7   6.25   7.58   8.81  11.43   1889    1.0\n",
       "y_new[2,10]   22.59    0.03   1.93  18.67  21.32  22.61  23.86  26.24   4000    1.0\n",
       "y_new[3,10]   24.89    0.03   1.93  21.08  23.64  24.88  26.14  28.65   3648    1.0\n",
       "y_new[4,10]   11.79    0.03   1.89   8.17  10.48   11.8  13.05   15.5   4000    1.0\n",
       "y_new[5,10]   13.89    0.03   1.95  10.05   12.6  13.88  15.19  17.76   4000    1.0\n",
       "y_new[6,10]   13.28    0.03   1.96   9.45  11.99  13.29   14.6  17.11   4000    1.0\n",
       "y_new[7,10]   12.77    0.03   1.97   8.82  11.48  12.77  14.11  16.57   3647    1.0\n",
       "y_new[8,10]   31.21    0.03   1.97  27.33  29.88  31.22  32.52   35.2   3319    1.0\n",
       "y_new[9,10]   17.41    0.04    2.0   13.6  16.09  17.41  18.77  21.31   2429    1.0\n",
       "y_new[10,10]  19.12    0.03   1.94  15.44   17.8  19.13  20.42  23.01   4000    1.0\n",
       "y_new[11,10]  16.13    0.04   1.95  12.41  14.81  16.13  17.43  20.04   3063    1.0\n",
       "y_new[12,10]  10.11    0.03   1.94    6.5   8.78  10.15  11.42  14.04   4000    1.0\n",
       "y_new[13,10]  22.71    0.03   1.92  18.97  21.42  22.71  24.03  26.49   3752    1.0\n",
       "y_new[14,10]  15.91    0.03   1.92  12.16  14.66  15.91  17.17  19.86   4000    1.0\n",
       "y_new[15,10]   31.7    0.09   1.99  27.81  30.35  31.67  33.01  35.64    550   1.01\n",
       "y_new[0,11]   12.08    0.03   1.95   8.32  10.79  12.07  13.32  15.99   4000    1.0\n",
       "y_new[1,11]    7.66    0.03   1.96   3.88   6.34   7.65   8.94   11.6   4000   1.01\n",
       "y_new[2,11]   22.91    0.03   1.93  19.18   21.6   22.9  24.24  26.71   4000    1.0\n",
       "y_new[3,11]   25.15    0.03   1.96  21.38  23.81  25.13  26.46  29.09   4000    1.0\n",
       "y_new[4,11]   12.18    0.03   1.95   8.41  10.85  12.15  13.51  15.97   4000    1.0\n",
       "y_new[5,11]   14.17    0.03   1.93  10.34  12.91  14.12  15.47   18.0   4000    1.0\n",
       "y_new[6,11]   13.57    0.04   1.99   9.68  12.25  13.54   14.9  17.45   2158    1.0\n",
       "y_new[7,11]   12.89    0.03   1.95   8.96  11.61  12.92  14.19  16.68   4000    1.0\n",
       "y_new[8,11]   31.42    0.04   1.97  27.54  30.11   31.4  32.72  35.35   2918    1.0\n",
       "y_new[9,11]   17.59    0.04   1.99   13.7  16.24   17.6  18.94  21.57   1998    1.0\n",
       "y_new[10,11]  19.28    0.03   1.97   15.3  17.97  19.31  20.63  23.04   4000    1.0\n",
       "y_new[11,11]  16.16    0.04   1.95  12.42  14.86  16.13  17.48  20.01   2722    1.0\n",
       "y_new[12,11]  10.39    0.03    1.9   6.66   9.12  10.35  11.67  14.16   4000    1.0\n",
       "y_new[13,11]  23.18    0.03   1.92  19.33   21.9   23.2  24.44  26.99   3410    1.0\n",
       "y_new[14,11]  16.03    0.03   1.93  12.21  14.75  16.04  17.32  19.83   4000    1.0\n",
       "y_new[15,11]  31.83    0.09   2.05  27.81  30.51  31.81  33.13  36.01    474   1.01\n",
       "y_new[0,12]   12.24    0.03   2.01    8.2  10.91  12.25  13.59  16.21   3536    1.0\n",
       "y_new[1,12]    7.84    0.03   1.97   4.07   6.51   7.79    9.2  11.66   4000    1.0\n",
       "y_new[2,12]   23.16    0.03   1.98  19.23  21.83  23.15  24.45   27.1   4000    1.0\n",
       "y_new[3,12]   25.38    0.04   1.99  21.44  24.08  25.36  26.74  29.27   2951    1.0\n",
       "y_new[4,12]   12.46    0.03   1.94   8.65  11.17  12.45  13.73  16.25   4000    1.0\n",
       "y_new[5,12]   14.47    0.04   1.94  10.62  13.19  14.49  15.75  18.27   2994    1.0\n",
       "y_new[6,12]   13.77    0.03   1.96    9.9  12.47  13.77  15.03  17.62   3166    1.0\n",
       "y_new[7,12]   13.05    0.03   1.93   9.21  11.75  13.05  14.34  16.79   3800    1.0\n",
       "y_new[8,12]   31.64    0.04   2.03  27.56  30.29  31.67  33.04  35.59   3018    1.0\n",
       "y_new[9,12]   17.62    0.07   2.02  13.67  16.29   17.6  18.93  21.65    792    1.0\n",
       "y_new[10,12]  19.38    0.03   1.97  15.56  18.04  19.38  20.71  23.32   3562    1.0\n",
       "y_new[11,12]  16.15    0.03   1.99  12.33   14.8  16.15  17.45  20.09   4000    1.0\n",
       "y_new[12,12]  10.52    0.03   1.94   6.73   9.24  10.54   11.8  14.44   4000    1.0\n",
       "y_new[13,12]   23.5    0.03   1.93  19.76   22.2   23.5   24.8  27.22   3681    1.0\n",
       "y_new[14,12]  16.23    0.03    2.0  12.36  14.83  16.22  17.57  20.21   4000    1.0\n",
       "y_new[15,12]   31.9    0.11   1.97  28.01  30.56   31.9   33.2  35.84    350   1.01\n",
       "y_new[0,13]   12.38    0.04   2.03   8.33  11.05   12.4   13.7  16.44   2198    1.0\n",
       "y_new[1,13]    7.91    0.04   1.98   4.07   6.59   7.91    9.2  11.83   2892    1.0\n",
       "y_new[2,13]   23.31    0.03   1.98  19.41   22.0  23.31  24.65  27.12   4000    1.0\n",
       "y_new[3,13]   25.52    0.03    2.0  21.65  24.14   25.5  26.84   29.5   3320    1.0\n",
       "y_new[4,13]   12.68    0.04   1.96   8.77   11.4  12.69  14.02  16.47   2528    1.0\n",
       "y_new[5,13]   14.67    0.03   2.01  10.65  13.32   14.7  16.05  18.46   4000    1.0\n",
       "y_new[6,13]   13.93    0.05   2.02   9.88  12.59  13.92  15.28  17.84   1731    1.0\n",
       "y_new[7,13]   13.08    0.05   1.99   9.12  11.76  13.09  14.43  17.03   1811    1.0\n",
       "y_new[8,13]   31.69    0.04   2.05  27.67  30.28   31.7  33.06  35.79   3133    1.0\n",
       "y_new[9,13]   17.67    0.05    2.0  13.66   16.3  17.72  18.97  21.63   1836   1.01\n",
       "y_new[10,13]  19.52    0.03   1.97  15.47  18.22  19.56  20.79   23.4   3541    1.0\n",
       "y_new[11,13]  16.23    0.03   2.01  12.26  14.87  16.22  17.59  20.14   3368    1.0\n",
       "y_new[12,13]   10.7    0.03   1.94   7.03   9.38  10.67  12.02  14.55   4000    1.0\n",
       "y_new[13,13]  23.82    0.03   1.97  19.92  22.48  23.77  25.14  27.75   3813    1.0\n",
       "y_new[14,13]  16.38    0.03   1.94  12.48  15.08  16.38  17.62  20.24   4000    1.0\n",
       "y_new[15,13]  31.95     0.1   2.04  27.99  30.62  31.91  33.24  36.14    416   1.01\n",
       "y_new[0,14]   12.53    0.04    2.0   8.56  11.19  12.54  13.85  16.44   2657   1.01\n",
       "y_new[1,14]    7.97    0.04   1.99   4.11   6.65   7.95   9.31  11.89   2935    1.0\n",
       "y_new[2,14]   23.47    0.03   1.99  19.55   22.2  23.45   24.8  27.35   4000    1.0\n",
       "y_new[3,14]   25.68    0.03   2.02   21.8   24.3  25.69  27.03  29.67   4000    1.0\n",
       "y_new[4,14]   12.89    0.04    2.0   8.99  11.52  12.89  14.21  16.88   2231    1.0\n",
       "y_new[5,14]   14.83    0.03   1.98  11.06   13.5  14.82  16.15   18.8   3673    1.0\n",
       "y_new[6,14]   14.12    0.06   2.03  10.12  12.74  14.12  15.51  18.11   1164    1.0\n",
       "y_new[7,14]   13.18    0.03   1.99   9.29  11.82  13.22  14.52  17.09   3300    1.0\n",
       "y_new[8,14]   31.75    0.03   2.05  27.74  30.37  31.74  33.15  35.72   3724    1.0\n",
       "y_new[9,14]   17.69    0.04   1.99  13.82  16.36  17.71  19.03  21.51   3020   1.01\n",
       "y_new[10,14]  19.54    0.03   1.98  15.76  18.18  19.52  20.85   23.4   3950    1.0\n",
       "y_new[11,14]  16.24    0.03   1.93  12.29  14.99  16.27  17.52  20.05   3286    1.0\n",
       "y_new[12,14]  10.81    0.03   1.96   6.85   9.49  10.82  12.11  14.66   3553    1.0\n",
       "y_new[13,14]   24.0    0.03   1.99   20.1  22.67  24.06  25.35  27.81   4000    1.0\n",
       "y_new[14,14]   16.4    0.03   1.97  12.46  15.15  16.39  17.71  20.19   4000    1.0\n",
       "y_new[15,14]   31.9    0.12   2.04  27.98  30.51   31.9  33.22  35.97    298   1.01\n",
       "y_new[0,15]   12.55    0.05   2.03    8.6   11.2  12.53  13.88  16.58   1607   1.01\n",
       "y_new[1,15]    8.11    0.03   1.95   4.34   6.78   8.07   9.43  12.04   3581    1.0\n",
       "y_new[2,15]   23.54    0.03   1.99  19.72  22.21  23.52  24.85  27.54   4000    1.0\n",
       "y_new[3,15]    25.7    0.03   2.02  21.74  24.38  25.73  27.02  29.62   3798    1.0\n",
       "y_new[4,15]   13.13    0.04   2.02    9.1   11.8  13.14  14.48  17.03   3098    1.0\n",
       "y_new[5,15]   14.96    0.03   1.99  11.11  13.61  14.93  16.35  18.77   3626    1.0\n",
       "y_new[6,15]   14.17     0.1   2.04  10.11  12.84  14.21  15.54  18.05    457   1.01\n",
       "y_new[7,15]   13.18    0.03   1.94   9.46  11.84  13.17  14.48  17.04   4000    1.0\n",
       "y_new[8,15]   31.83    0.03   2.05  27.72  30.48  31.79  33.16  35.86   3497    1.0\n",
       "y_new[9,15]   17.75    0.05   1.99  13.91  16.41  17.74  19.04  21.75   1707   1.01\n",
       "y_new[10,15]  19.61    0.03   2.04  15.66  18.26  19.56  20.99  23.72   3664    1.0\n",
       "y_new[11,15]  16.23    0.03   1.99  12.36  14.85   16.2  17.54  20.16   3654    1.0\n",
       "y_new[12,15]  10.95    0.03   1.97   7.05   9.62  10.97  12.28  14.82   4000    1.0\n",
       "y_new[13,15]  24.14    0.03   2.04  20.17  22.76  24.17   25.5  28.12   3615    1.0\n",
       "y_new[14,15]  16.59    0.03   1.98  12.68  15.27  16.57  17.93  20.39   4000    1.0\n",
       "y_new[15,15]   31.9    0.11   2.04  27.99  30.51  31.82  33.28  36.06    362   1.01\n",
       "y_new[0,16]   12.67    0.06   2.04   8.59  11.32  12.67  14.04  16.64   1148    1.0\n",
       "y_new[1,16]    8.11    0.04   1.97   4.27   6.81   8.11   9.42  11.94   3076    1.0\n",
       "y_new[2,16]   23.63    0.03   2.04  19.62  22.27  23.61  24.98  27.56   4000    1.0\n",
       "y_new[3,16]   25.79    0.03   2.01  21.86  24.45   25.8  27.12  29.79   3457    1.0\n",
       "y_new[4,16]    13.2    0.04   2.04   9.11  11.83  13.23  14.55  17.19   2174    1.0\n",
       "y_new[5,16]   15.12    0.03   2.06  11.13  13.71  15.13  16.49   19.2   3759    1.0\n",
       "y_new[6,16]   14.29    0.05   2.08  10.17   12.9  14.28  15.68  18.27   1883   1.01\n",
       "y_new[7,16]   13.23    0.04    2.0   9.25  11.86  13.24  14.57  17.21   3022    1.0\n",
       "y_new[8,16]   31.87    0.04   2.05  27.95  30.49  31.82  33.24  35.99   2822    1.0\n",
       "y_new[9,16]   17.74    0.06   2.01  13.77  16.39  17.76   19.1  21.62   1301   1.01\n",
       "y_new[10,16]  19.61    0.03   2.02  15.72  18.22  19.58  20.93  23.56   4000    1.0\n",
       "y_new[11,16]  16.21    0.04    2.0  12.22  14.89  16.25  17.55  20.13   3123    1.0\n",
       "y_new[12,16]  11.03    0.04   2.03   6.98   9.68  11.07  12.41  14.91   3169    1.0\n",
       "y_new[13,16]   24.3    0.03   2.03  20.18  22.92  24.34   25.6  28.25   3705    1.0\n",
       "y_new[14,16]  16.61    0.03   1.98  12.76  15.29   16.6  17.98  20.49   3873    1.0\n",
       "y_new[15,16]  31.95     0.1   2.04   28.1  30.55   31.9  33.27  35.98    393   1.01\n",
       "y_new[0,17]   12.73    0.04   2.08   8.61  11.33  12.71   14.1  16.84   2787    1.0\n",
       "y_new[1,17]    8.14    0.04   1.99   4.24    6.8   8.12   9.43  12.07   2940    1.0\n",
       "y_new[2,17]   23.66    0.03   2.02  19.76  22.29  23.64  25.03  27.69   3935    1.0\n",
       "y_new[3,17]   25.86    0.04   2.05  21.81  24.48  25.83  27.25  29.93   3249    1.0\n",
       "y_new[4,17]   13.38    0.05   2.04   9.36  12.02  13.42  14.71  17.45   1983    1.0\n",
       "y_new[5,17]   15.15    0.04   2.05  11.04  13.78  15.13  16.57  19.11   3165    1.0\n",
       "y_new[6,17]   14.39    0.08   2.08  10.28  12.99   14.4  15.77   18.4    766   1.01\n",
       "y_new[7,17]   13.27    0.04   2.02    9.3  11.92  13.24  14.65   17.2   3165    1.0\n",
       "y_new[8,17]   31.91    0.04   2.02  28.12  30.54  31.87  33.24  36.16   3146    1.0\n",
       "y_new[9,17]   17.73    0.04   2.05  13.69  16.37  17.75   19.1  21.73   2985   1.01\n",
       "y_new[10,17]  19.66    0.03   1.99  15.79  18.31  19.65   21.0  23.66   3742    1.0\n",
       "y_new[11,17]  16.28    0.03   1.98  12.29  14.97  16.29  17.62   20.1   3456    1.0\n",
       "y_new[12,17]  11.11    0.03   2.04    7.1   9.74  11.14  12.48  15.09   3544    1.0\n",
       "y_new[13,17]  24.42    0.03   2.09  20.33  23.09  24.43  25.78   28.6   3773    1.0\n",
       "y_new[14,17]  16.62    0.03   2.01  12.69  15.27  16.62  17.97  20.57   4000    1.0\n",
       "y_new[15,17]  31.94     0.1   2.04  27.97  30.58  31.91  33.32  35.89    381   1.01\n",
       "y_new[0,18]   12.73    0.05   2.04   8.74  11.32  12.73  14.13   16.7   1880    1.0\n",
       "y_new[1,18]    8.18    0.04   1.97   4.37   6.86   8.14   9.48  12.15   2948    1.0\n",
       "y_new[2,18]   23.67    0.03   2.08  19.59  22.31   23.6   25.1  27.74   3576    1.0\n",
       "y_new[3,18]    25.9    0.03   2.04  22.04  24.54  25.88  27.22  29.95   3826    1.0\n",
       "y_new[4,18]   13.48    0.06   2.09   9.49  12.07  13.53  14.87  17.49   1373    1.0\n",
       "y_new[5,18]    15.3    0.05   2.08  11.17  13.91   15.3  16.68   19.4   1681    1.0\n",
       "y_new[6,18]   14.48    0.05   2.06   10.4   13.1  14.49  15.87  18.49   1860    1.0\n",
       "y_new[7,18]   13.24    0.04   2.06   9.19  11.81  13.25  14.63  17.29   2138    1.0\n",
       "y_new[8,18]   31.88    0.03   2.05  27.95  30.46  31.87  33.26  35.92   3442    1.0\n",
       "y_new[9,18]   17.78    0.06   2.05  13.83  16.42   17.7  19.12  21.92   1223    1.0\n",
       "y_new[10,18]  19.62    0.03   2.02  15.66  18.26  19.58  20.96  23.63   3470    1.0\n",
       "y_new[11,18]  16.23    0.04   1.98  12.25   14.9  16.21  17.52   20.1   2739    1.0\n",
       "y_new[12,18]  11.19    0.04   2.05   7.21   9.81   11.2  12.61  15.16   2319    1.0\n",
       "y_new[13,18]  24.53    0.03   2.03  20.57  23.16  24.55  25.89  28.59   3649    1.0\n",
       "y_new[14,18]  16.63    0.03   2.01  12.73  15.28  16.62  17.99  20.58   4000    1.0\n",
       "y_new[15,18]  31.97    0.11   2.03  28.01  30.62  31.97  33.27  36.06    317   1.01\n",
       "y_new[0,19]    12.8    0.06   2.07   8.78   11.4  12.82  14.16   16.8   1180   1.01\n",
       "y_new[1,19]    8.21    0.04   2.05   4.18   6.85   8.22   9.57  12.26   3387    1.0\n",
       "y_new[2,19]   23.73    0.03   2.04  19.67  22.38  23.72  25.07  27.86   3921    1.0\n",
       "y_new[3,19]   25.92    0.03   2.04  22.07  24.54  25.95   27.3  29.82   3785    1.0\n",
       "y_new[4,19]   13.56    0.05   2.07   9.48  12.16  13.58  14.95  17.66   1942    1.0\n",
       "y_new[5,19]   15.33    0.04   2.16  11.07  13.91  15.33  16.74  19.73   3010    1.0\n",
       "y_new[6,19]   14.48     0.1   2.13  10.32  13.06  14.46  15.95  18.56    443   1.01\n",
       "y_new[7,19]   13.24    0.04   2.02   9.34  11.86  13.21  14.58  17.34   2033    1.0\n",
       "y_new[8,19]   31.94    0.03   2.07  27.86  30.55  31.95  33.29  36.11   3964    1.0\n",
       "y_new[9,19]   17.79    0.06   2.03   13.7  16.47  17.81  19.14  21.84   1099   1.01\n",
       "y_new[10,19]  19.64    0.03   1.99  15.76  18.33  19.61  20.99  23.61   3608    1.0\n",
       "y_new[11,19]  16.24    0.04   1.99  12.35  14.94  16.23  17.59  20.14   2939    1.0\n",
       "y_new[12,19]  11.21    0.04   2.05   7.17   9.86  11.18  12.61   15.3   2113    1.0\n",
       "y_new[13,19]  24.54    0.04   2.05  20.56  23.18  24.52  25.93  28.55   3411    1.0\n",
       "y_new[14,19]  16.65    0.03   1.97  12.85   15.3  16.68  17.97  20.51   4000    1.0\n",
       "y_new[15,19]  32.01    0.12   2.06  28.15  30.61  31.94   33.3  36.34    305   1.01\n",
       "y_new[0,20]   12.83    0.04   2.04   8.83  11.51   12.8  14.18  16.85   2651    1.0\n",
       "y_new[1,20]    8.27    0.03   2.01   4.37   6.94   8.29   9.63  12.22   4000    1.0\n",
       "y_new[2,20]   23.76    0.03   2.06  19.74  22.34  23.75  25.14  27.87   4000    1.0\n",
       "y_new[3,20]   25.91    0.04   2.09   21.8  24.49  25.89  27.29  30.14   3076    1.0\n",
       "y_new[4,20]    13.6    0.06   2.11   9.54  12.19   13.6  15.06  17.74   1195   1.01\n",
       "y_new[5,20]   15.37    0.07   2.15  11.12  13.92  15.38  16.84  19.56   1077   1.01\n",
       "y_new[6,20]   14.55    0.08   2.15  10.14  13.13  14.56  16.02  18.79    731   1.01\n",
       "y_new[7,20]   13.28    0.03   1.99   9.41  11.94  13.26  14.65  17.22   3650    1.0\n",
       "y_new[8,20]   31.92    0.03   2.14  27.77  30.53  31.96  33.29  36.09   3730    1.0\n",
       "y_new[9,20]   17.78    0.05   2.06  13.81   16.4  17.76  19.15  21.83   1865    1.0\n",
       "y_new[10,20]  19.62    0.04   2.06  15.63  18.24   19.6  20.96  23.79   3401    1.0\n",
       "y_new[11,20]  16.26    0.03   1.99  12.34  14.94  16.26  17.57   20.2   3527    1.0\n",
       "y_new[12,20]  11.21    0.03   2.04   7.24   9.85  11.23  12.55  15.22   3521    1.0\n",
       "y_new[13,20]  24.69    0.03   2.09  20.67  23.24  24.69  26.05  28.92   3868    1.0\n",
       "y_new[14,20]  16.66    0.03   2.01  12.66  15.28  16.71  18.03  20.47   4000    1.0\n",
       "y_new[15,20]  31.95    0.09   2.03  28.08  30.57  31.91  33.25  36.12    485   1.01\n",
       "y_new[0,21]   12.84    0.07   2.07   8.69  11.48  12.85  14.23  16.81    833   1.01\n",
       "y_new[1,21]    8.26    0.03   2.01   4.22   6.92   8.27   9.62  12.14   3348    1.0\n",
       "y_new[2,21]   23.79    0.04   2.12  19.72  22.39  23.78  25.21  27.91   3059    1.0\n",
       "y_new[3,21]   25.94    0.04   2.04  21.79  24.59  25.96  27.31  29.91   3292    1.0\n",
       "y_new[4,21]   13.68    0.05   2.16    9.4  12.19  13.68  15.17  17.76   1909    1.0\n",
       "y_new[5,21]   15.42    0.05   2.15  11.21  13.97  15.39  16.85  19.65   1937    1.0\n",
       "y_new[6,21]   14.54     0.1   2.14  10.39   13.1  14.52  15.92  18.83    461   1.01\n",
       "y_new[7,21]   13.31    0.05   2.02   9.37  11.92  13.34  14.65  17.39   1916    1.0\n",
       "y_new[8,21]   31.92    0.04   2.08  27.97  30.52  31.94  33.31  35.99   2969    1.0\n",
       "y_new[9,21]    17.8    0.04   2.02   13.8  16.46  17.81  19.18  21.71   2366    1.0\n",
       "y_new[10,21]  19.66    0.03   1.99  15.84  18.29  19.68   21.0  23.63   3838    1.0\n",
       "y_new[11,21]  16.28    0.03   1.99  12.21  15.02  16.26  17.58  20.25   3336    1.0\n",
       "y_new[12,21]  11.31    0.05   2.11   7.14   9.95   11.3  12.69  15.43   2104    1.0\n",
       "y_new[13,21]  24.66    0.04   2.12  20.56  23.24  24.67  26.06  28.78   3609    1.0\n",
       "y_new[14,21]  16.69    0.03   2.03   12.7  15.28   16.7  18.04  20.72   3801    1.0\n",
       "y_new[15,21]  31.99    0.11   2.06  27.95  30.62  31.96  33.35  36.15    344   1.01\n",
       "y_new[0,22]   12.93    0.04   2.07    8.9  11.55   12.9   14.3  17.03   2621    1.0\n",
       "y_new[1,22]    8.24    0.04   2.04   4.22   6.89   8.25   9.59  12.31   3375    1.0\n",
       "y_new[2,22]   23.79    0.03   2.05  19.85  22.39   23.8  25.19  27.75   3538    1.0\n",
       "y_new[3,22]   25.94    0.03   2.06  21.93  24.57  25.97  27.34  29.94   3838    1.0\n",
       "y_new[4,22]   13.72    0.08   2.18   9.48  12.25  13.71  15.18  18.04    687    1.0\n",
       "y_new[5,22]   15.43    0.04   2.14  11.26   14.0  15.41  16.87  19.65   3158    1.0\n",
       "y_new[6,22]   14.59     0.1   2.14  10.43  13.13  14.57  16.03  18.76    481   1.01\n",
       "y_new[7,22]   13.29    0.04   2.06    9.2  11.91  13.25  14.67   17.4   2237    1.0\n",
       "y_new[8,22]   31.95    0.04   2.04  27.88  30.58  31.96   33.3  35.89   2975    1.0\n",
       "y_new[9,22]   17.79    0.04   2.04  13.88  16.44  17.76  19.11  21.86   2588    1.0\n",
       "y_new[10,22]  19.65    0.03   2.03  15.72  18.31  19.64  21.01  23.75   3500    1.0\n",
       "y_new[11,22]  16.27    0.03    2.0  12.43  14.91  16.25  17.64  20.27   4000    1.0\n",
       "y_new[12,22]  11.34    0.04   2.06   7.29   9.98  11.34  12.69  15.39   2146    1.0\n",
       "y_new[13,22]  24.72    0.04   2.12  20.64   23.3  24.72  26.12  28.96   3419    1.0\n",
       "y_new[14,22]  16.66    0.03   2.05  12.57   15.3  16.66  18.02   20.6   3470    1.0\n",
       "y_new[15,22]  31.98    0.12   2.01  28.23  30.62  31.97  33.25  36.14    302   1.01\n",
       "y_new[0,23]    12.9    0.07   2.13   8.81  11.46   12.9   14.3  17.21    944    1.0\n",
       "y_new[1,23]    8.28    0.04   2.07   4.33   6.92   8.19   9.65  12.42   3058    1.0\n",
       "y_new[2,23]   23.85    0.03   2.03  19.77  22.49  23.88  25.23  27.86   3738    1.0\n",
       "y_new[3,23]   26.01    0.03   2.09  22.01  24.54  26.03   27.4  30.15   3777    1.0\n",
       "y_new[4,23]   13.77    0.07   2.22   9.45  12.31  13.78  15.25  18.08   1082    1.0\n",
       "y_new[5,23]   15.47    0.05   2.18  11.25  13.95  15.45  16.94   19.7   2087    1.0\n",
       "y_new[6,23]   14.64    0.09   2.14  10.41  13.19  14.69   16.1  18.76    595   1.01\n",
       "y_new[7,23]   13.36    0.04   2.09   9.18  11.94  13.36  14.78  17.44   2584    1.0\n",
       "y_new[8,23]   31.94    0.04   2.07  27.89  30.54  31.96  33.31  36.01   3073    1.0\n",
       "y_new[9,23]   17.79    0.06   2.01   13.7  16.46  17.81  19.16   21.7   1067    1.0\n",
       "y_new[10,23]  19.62    0.03   2.02  15.62  18.29  19.66  20.95  23.64   3900    1.0\n",
       "y_new[11,23]  16.27    0.04   1.97  12.53  14.91  16.25  17.57  20.15   2832    1.0\n",
       "y_new[12,23]  11.36    0.04   2.08   7.35   9.98  11.31  12.75  15.44   3382    1.0\n",
       "y_new[13,23]  24.71    0.04   2.12  20.52  23.31  24.69  26.12  28.76   3557    1.0\n",
       "y_new[14,23]  16.69    0.03    2.0  12.86  15.33  16.69  18.05  20.58   3703    1.0\n",
       "y_new[15,23]  31.94    0.12   2.08  27.93   30.6  31.92  33.28  36.33    305   1.01\n",
       "y_new[0,24]    12.9    0.04    2.1   8.73  11.53  12.87   14.3  17.02   2599    1.0\n",
       "y_new[1,24]    8.36    0.04   2.08   4.41   6.97   8.29   9.76   12.6   3384    1.0\n",
       "y_new[2,24]   23.83    0.03   2.08  19.74  22.41  23.83  25.22  27.93   3758    1.0\n",
       "y_new[3,24]    26.0    0.03   2.05  21.94   24.6  25.99  27.37  30.06   3527    1.0\n",
       "y_new[4,24]   13.78    0.07   2.18   9.54  12.31  13.76  15.24  18.03   1096    1.0\n",
       "y_new[5,24]   15.49    0.05    2.2  11.19  13.99  15.48  16.95  19.75   1740   1.01\n",
       "y_new[6,24]   14.61    0.07   2.15  10.42  13.12  14.64  16.08  18.77    882    1.0\n",
       "y_new[7,24]   13.33    0.04   2.02   9.37  11.96   13.3  14.71  17.28   2529    1.0\n",
       "y_new[8,24]   31.94    0.04   2.07  27.98   30.5  31.94  33.37  36.03   2692    1.0\n",
       "y_new[9,24]    17.8    0.04   2.03  13.75  16.44  17.79  19.13  21.81   2504   1.01\n",
       "y_new[10,24]  19.63    0.03   2.06  15.57  18.24  19.59  21.05  23.73   3738    1.0\n",
       "y_new[11,24]  16.18    0.04   1.98  12.32  14.87  16.16   17.5  19.98   3009    1.0\n",
       "y_new[12,24]  11.36    0.04   2.08   7.16  10.01  11.34  12.73   15.4   2328    1.0\n",
       "y_new[13,24]  24.78    0.04   2.15  20.65  23.35  24.74  26.21  28.97   3364    1.0\n",
       "y_new[14,24]  16.67    0.03   2.05  12.75  15.29  16.64  18.03  20.73   4000    1.0\n",
       "y_new[15,24]  32.04     0.1   2.05  28.17  30.63  32.05   33.4  36.14    399   1.01\n",
       "lp__         -83.92    0.35   5.19 -94.74 -87.23 -83.64 -80.34 -74.87    216   1.02\n",
       "\n",
       "Samples were drawn using NUTS at Sun Nov 27 22:31:40 2016.\n",
       "For each parameter, n_eff is a crude measure of effective sample size,\n",
       "and Rhat is the potential scale reduction factor on split chains (at \n",
       "convergence, Rhat=1)."
      ]
     },
     "execution_count": 162,
     "metadata": {},
     "output_type": "execute_result"
    }
   ],
   "source": [
    "fit7"
   ]
  },
  {
   "cell_type": "code",
   "execution_count": 166,
   "metadata": {
    "collapsed": true
   },
   "outputs": [],
   "source": [
    "ms7 = fit7.extract()\n",
    "y_new = ms7[\"y_new\"]"
   ]
  },
  {
   "cell_type": "code",
   "execution_count": 167,
   "metadata": {
    "collapsed": false
   },
   "outputs": [
    {
     "data": {
      "text/plain": [
       "(4000, 16, 25)"
      ]
     },
     "execution_count": 167,
     "metadata": {},
     "output_type": "execute_result"
    }
   ],
   "source": [
    "y_new.shape"
   ]
  },
  {
   "cell_type": "code",
   "execution_count": 188,
   "metadata": {
    "collapsed": false
   },
   "outputs": [],
   "source": [
    "panel_time = pd.Panel([np.percentile(y_new[:,n,:],[2.5,50,97.5], axis=0).T for n in range(len(df3))])"
   ]
  },
  {
   "cell_type": "code",
   "execution_count": 190,
   "metadata": {
    "collapsed": false
   },
   "outputs": [
    {
     "data": {
      "text/plain": [
       "(16, 25, 3)"
      ]
     },
     "execution_count": 190,
     "metadata": {},
     "output_type": "execute_result"
    }
   ],
   "source": [
    "panel_time.shape"
   ]
  },
  {
   "cell_type": "code",
   "execution_count": 198,
   "metadata": {
    "collapsed": false
   },
   "outputs": [
    {
     "data": {
      "image/png": "[encoded data removed]",
      "text/plain": [
       "<matplotlib.figure.Figure at 0x1184489b0>"
      ]
     },
     "metadata": {},
     "output_type": "display_data"
    }
   ],
   "source": [
    "fig = plt.figure(figsize=(12,6))\n",
    "time = [1,2,4,8,12,24]\n",
    "Time_new = np.arange(0,25)\n",
    "for i in df3.PersonID:\n",
    "    ix = i -1\n",
    "    if ax == None:\n",
    "        ax = fig.add_subplot(4,4,i)\n",
    "    else:\n",
    "        ax = fig.add_subplot(4,4,i,sharey=ax)\n",
    "    ax.scatter(time, df3.iloc[ix,1:].values)\n",
    "    d = panel_time.iloc[ix,:,:]\n",
    "    ax.plot(Time_new, d.iloc[:,1])\n",
    "    ax.fill_between(Time_new, d.iloc[:,0], d.iloc[:,2],alpha=0.8)"
   ]
  },
  {
   "cell_type": "markdown",
   "metadata": {},
   "source": [
    "#### 8.4 ロジスティック回帰の階層モデル"
   ]
  },
  {
   "cell_type": "code",
   "execution_count": 202,
   "metadata": {
    "collapsed": true
   },
   "outputs": [],
   "source": [
    "df41 = pd.read_csv(\"input/data-attendance-4-1.txt\")\n",
    "df42 = pd.read_csv(\"input/data-attendance-4-2.txt\")"
   ]
  },
  {
   "cell_type": "code",
   "execution_count": null,
   "metadata": {
    "collapsed": true
   },
   "outputs": [],
   "source": []
  },
  {
   "cell_type": "code",
   "execution_count": null,
   "metadata": {
    "collapsed": true
   },
   "outputs": [],
   "source": []
  },
  {
   "cell_type": "code",
   "execution_count": null,
   "metadata": {
    "collapsed": true
   },
   "outputs": [],
   "source": []
  }
 ],
 "metadata": {
  "kernelspec": {
   "display_name": "Python 3",
   "language": "python",
   "name": "python3"
  },
  "language_info": {
   "codemirror_mode": {
    "name": "ipython",
    "version": 3
   },
   "file_extension": ".py",
   "mimetype": "text/x-python",
   "name": "python",
   "nbconvert_exporter": "python",
   "pygments_lexer": "ipython3",
   "version": "3.5.0"
  }
 },
 "nbformat": 4,
 "nbformat_minor": 0
}
